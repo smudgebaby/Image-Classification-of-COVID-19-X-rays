{
  "nbformat": 4,
  "nbformat_minor": 0,
  "metadata": {
    "kernelspec": {
      "display_name": "Python 3",
      "language": "python",
      "name": "python3"
    },
    "language_info": {
      "codemirror_mode": {
        "name": "ipython",
        "version": 3
      },
      "file_extension": ".py",
      "mimetype": "text/x-python",
      "name": "python",
      "nbconvert_exporter": "python",
      "pygments_lexer": "ipython3",
      "version": "3.8.5"
    },
    "latex_envs": {
      "LaTeX_envs_menu_present": true,
      "autoclose": false,
      "autocomplete": true,
      "bibliofile": "biblio.bib",
      "cite_by": "apalike",
      "current_citInitial": 1,
      "eqLabelWithNumbers": true,
      "eqNumInitial": 1,
      "hotkeys": {
        "equation": "Ctrl-E",
        "itemize": "Ctrl-I"
      },
      "labels_anchors": false,
      "latex_user_defs": false,
      "report_style_numbering": false,
      "user_envs_cfg": false
    },
    "toc": {
      "base_numbering": 1,
      "nav_menu": {},
      "number_sections": true,
      "sideBar": true,
      "skip_h1_title": false,
      "title_cell": "Table of Contents",
      "title_sidebar": "Contents",
      "toc_cell": false,
      "toc_position": {},
      "toc_section_display": true,
      "toc_window_display": false
    },
    "varInspector": {
      "cols": {
        "lenName": 16,
        "lenType": 16,
        "lenVar": 40
      },
      "kernels_config": {
        "python": {
          "delete_cmd_postfix": "",
          "delete_cmd_prefix": "del ",
          "library": "var_list.py",
          "varRefreshCmd": "print(var_dic_list())"
        },
        "r": {
          "delete_cmd_postfix": ") ",
          "delete_cmd_prefix": "rm(",
          "library": "var_list.r",
          "varRefreshCmd": "cat(var_dic_list()) "
        }
      },
      "types_to_exclude": [
        "module",
        "function",
        "builtin_function_or_method",
        "instance",
        "_Feature"
      ],
      "window_display": false
    },
    "colab": {
      "name": "task2_denseNet121.ipynb",
      "provenance": [],
      "collapsed_sections": []
    }
  },
  "cells": [
    {
      "cell_type": "markdown",
      "metadata": {
        "nbpresent": {
          "id": "1d234e3f-af8b-4757-83f3-241b04b7a511"
        },
        "id": "SHz75I7IeOGv"
      },
      "source": [
        "# Class Challenge: Image Classification of COVID-19 X-rays\n",
        "# Task 2 [Total points: 30]"
      ]
    },
    {
      "cell_type": "markdown",
      "metadata": {
        "nbpresent": {
          "id": "b07b9992-b592-4871-9f9a-3b0ae5fa8b5f"
        },
        "id": "Bs7qjSK-eOG-"
      },
      "source": [
        "## Setup\n",
        "\n",
        "* This assignment involves the following packages: 'matplotlib', 'numpy', and 'sklearn'. \n",
        "\n",
        "* If you are using conda, use the following commands to install the above packages:<br>\n",
        "```shell\n",
        "conda install matplotlib\n",
        "conda install numpy\n",
        "conda install -c anaconda scikit-learn\n",
        "```\n",
        "\n",
        "* If you are using pip, use use the following commands to install the above packages: <br> \n",
        "```shell\n",
        "pip install matplotlib\n",
        "pip install numpy\n",
        "pip install sklearn\n",
        "```"
      ]
    },
    {
      "cell_type": "markdown",
      "metadata": {
        "nbpresent": {
          "id": "5516f610-f00c-43c3-bf19-4cf7ab9c089f"
        },
        "id": "FAYs8RUyeOG_"
      },
      "source": [
        "## Data\n",
        "\n",
        "Please download the data using the following link: [COVID-19](https://drive.google.com/file/d/1Y88tgqpQ1Pjko_7rntcPowOJs_QNOrJ-/view). \n",
        "\n",
        "* After downloading 'Covid_Data_GradientCrescent.zip', unzip the file and you should see the following data structure:\n",
        "\n",
        "\n",
        "|--all<br>\n",
        "|--------train<br>\n",
        "|--------test<br>\n",
        "|--two<br>\n",
        "|--------train<br>\n",
        "|--------test<br>\n",
        "\n",
        "\n",
        "* Put the 'all' folder, the 'two' folder and this python notebook in the **same directory** so that the following code can correctly locate the data.  \n",
        "\n"
      ]
    },
    {
      "cell_type": "markdown",
      "metadata": {
        "nbpresent": {
          "id": "66140980-2aa4-457f-b1df-74c10c234cc2"
        },
        "id": "F71q1G-leOHA"
      },
      "source": [
        "## [20 points] Multi-class Classification"
      ]
    },
    {
      "cell_type": "code",
      "metadata": {
        "nbpresent": {
          "id": "5e05f980-3d14-4367-b3d1-664249145b13"
        },
        "scrolled": true,
        "id": "UA2gkU1ReOHB",
        "outputId": "37d65cb8-f9ce-4c90-eeab-324e639f316a"
      },
      "source": [
        "import os\n",
        "\n",
        "import tensorflow as tf\n",
        "import numpy as np\n",
        "import matplotlib.pyplot as plt\n",
        "from tensorflow.keras.preprocessing.image import ImageDataGenerator\n",
        "\n",
        "os.environ['OMP_NUM_THREADS'] = '1'\n",
        "os.environ['CUDA_VISIBLE_DEVICES'] = '-1'\n",
        "tf.__version__"
      ],
      "execution_count": null,
      "outputs": [
        {
          "data": {
            "text/plain": [
              "'2.4.1'"
            ]
          },
          "execution_count": 1,
          "metadata": {},
          "output_type": "execute_result"
        }
      ]
    },
    {
      "cell_type": "markdown",
      "metadata": {
        "nbpresent": {
          "id": "66140980-2aa4-457f-b1df-74c10c234cc2"
        },
        "id": "7DE5w8_5eOHE"
      },
      "source": [
        "#### Load Image Data"
      ]
    },
    {
      "cell_type": "code",
      "metadata": {
        "nbpresent": {
          "id": "58317664-8da3-4283-b3e5-35721687e7ab"
        },
        "id": "12CpHhwWeOHH"
      },
      "source": [
        "DATA_LIST = os.listdir('all/train')\n",
        "DATASET_PATH  = 'all/train'\n",
        "TEST_DIR =  'all/test'\n",
        "IMAGE_SIZE    = (224, 224)\n",
        "NUM_CLASSES   = len(DATA_LIST)\n",
        "BATCH_SIZE    = 8  \n",
        "NUM_EPOCHS    = 100\n",
        "LEARNING_RATE = 0.0005 "
      ],
      "execution_count": null,
      "outputs": []
    },
    {
      "cell_type": "markdown",
      "metadata": {
        "nbpresent": {
          "id": "66140980-2aa4-457f-b1df-74c10c234cc2"
        },
        "id": "Fh9N6rqseOHJ"
      },
      "source": [
        "#### Generate Training and Validation Batches"
      ]
    },
    {
      "cell_type": "code",
      "metadata": {
        "nbpresent": {
          "id": "71760e29-2b08-4259-93f1-ebe68cd74a6d"
        },
        "id": "HfweSpWSeOHJ",
        "outputId": "5aa0a3c8-8b15-44cb-ef4f-c8b185e74e22"
      },
      "source": [
        "train_datagen = ImageDataGenerator(rescale=1./255,rotation_range=50,featurewise_center = True,\n",
        "                                   featurewise_std_normalization = True,width_shift_range=0.2,\n",
        "                                   height_shift_range=0.2,shear_range=0.25,zoom_range=0.1,\n",
        "                                   zca_whitening = True,channel_shift_range = 20,\n",
        "                                   horizontal_flip = True,vertical_flip = True,\n",
        "                                   validation_split = 0.2,fill_mode='constant')\n",
        "\n",
        "\n",
        "train_batches = train_datagen.flow_from_directory(DATASET_PATH,target_size=IMAGE_SIZE,\n",
        "                                                  shuffle=True,batch_size=BATCH_SIZE,\n",
        "                                                  subset = \"training\",seed=42,\n",
        "                                                  class_mode=\"categorical\")\n",
        "\n",
        "valid_batches = train_datagen.flow_from_directory(DATASET_PATH,target_size=IMAGE_SIZE,\n",
        "                                                  shuffle=True,batch_size=BATCH_SIZE,\n",
        "                                                  subset = \"validation\",\n",
        "                                                  seed=42,class_mode=\"categorical\")"
      ],
      "execution_count": null,
      "outputs": [
        {
          "name": "stdout",
          "output_type": "stream",
          "text": [
            "Found 216 images belonging to 4 classes.\n",
            "Found 54 images belonging to 4 classes.\n"
          ]
        },
        {
          "name": "stderr",
          "output_type": "stream",
          "text": [
            "D:\\downloads\\anaconda3\\lib\\site-packages\\keras_preprocessing\\image\\image_data_generator.py:342: UserWarning: This ImageDataGenerator specifies `zca_whitening` which overrides setting of`featurewise_std_normalization`.\n",
            "  warnings.warn('This ImageDataGenerator specifies '\n"
          ]
        }
      ]
    },
    {
      "cell_type": "markdown",
      "metadata": {
        "nbpresent": {
          "id": "66140980-2aa4-457f-b1df-74c10c234cc2"
        },
        "id": "Z3Xm7B6geOHL"
      },
      "source": [
        "#### [10 points] Build Model\n",
        "Hint: Starting from a pre-trained model typically helps performance on a new task, e.g. starting with weights obtained by training on ImageNet. "
      ]
    },
    {
      "cell_type": "code",
      "metadata": {
        "nbpresent": {
          "id": "5c52eeb2-1092-4d45-9e16-02219c82cb5e"
        },
        "id": "f4L066G5eOHM",
        "outputId": "6111063a-768b-4334-a05b-cc09b65bacce"
      },
      "source": [
        "\n",
        "DenseNet_model = tf.keras.applications.DenseNet121(\n",
        "    weights = \"imagenet\",\n",
        "    input_shape = (224, 224, 3),\n",
        "    include_top = False\n",
        ")\n",
        "\n",
        "DenseNet_model.trainable = False\n",
        "\n",
        "model = tf.keras.models.Sequential()\n",
        "model.add(DenseNet_model)\n",
        "model.add(tf.keras.layers.AveragePooling2D(pool_size=(3,3)))\n",
        "model.add(tf.keras.layers.Flatten())\n",
        "model.add(tf.keras.layers.Dropout(rate = 0.5))\n",
        "model.add(tf.keras.layers.Dense(256, name = \"dense_feature\"))\n",
        "model.add(tf.keras.layers.Dense(4, activation='softmax'))\n",
        "model.summary()"
      ],
      "execution_count": null,
      "outputs": [
        {
          "name": "stdout",
          "output_type": "stream",
          "text": [
            "Downloading data from https://storage.googleapis.com/tensorflow/keras-applications/densenet/densenet121_weights_tf_dim_ordering_tf_kernels_notop.h5\n",
            "29089792/29084464 [==============================] - 1s 0us/step\n",
            "Model: \"sequential\"\n",
            "_________________________________________________________________\n",
            "Layer (type)                 Output Shape              Param #   \n",
            "=================================================================\n",
            "densenet121 (Functional)     (None, 7, 7, 1024)        7037504   \n",
            "_________________________________________________________________\n",
            "average_pooling2d (AveragePo (None, 2, 2, 1024)        0         \n",
            "_________________________________________________________________\n",
            "flatten (Flatten)            (None, 4096)              0         \n",
            "_________________________________________________________________\n",
            "dropout (Dropout)            (None, 4096)              0         \n",
            "_________________________________________________________________\n",
            "dense_feature (Dense)        (None, 256)               1048832   \n",
            "_________________________________________________________________\n",
            "dense (Dense)                (None, 4)                 1028      \n",
            "=================================================================\n",
            "Total params: 8,087,364\n",
            "Trainable params: 1,049,860\n",
            "Non-trainable params: 7,037,504\n",
            "_________________________________________________________________\n"
          ]
        }
      ]
    },
    {
      "cell_type": "markdown",
      "metadata": {
        "nbpresent": {
          "id": "66140980-2aa4-457f-b1df-74c10c234cc2"
        },
        "id": "azphKWoaeOHM"
      },
      "source": [
        "#### [5 points] Train Model"
      ]
    },
    {
      "cell_type": "code",
      "metadata": {
        "nbpresent": {
          "id": "cdb90d24-6a23-4969-8138-f37e7050062d"
        },
        "scrolled": true,
        "id": "yzF0wtFUeOHN",
        "outputId": "05188816-cf4e-47cc-bdec-cb8d53d6115c"
      },
      "source": [
        "model.compile(optimizer='adam',\n",
        "                loss=tf.keras.losses.CategoricalCrossentropy(from_logits=True),\n",
        "                metrics=['acc'])\n",
        "\n",
        "#FIT MODEL\n",
        "print(len(train_batches))\n",
        "print(len(valid_batches))\n",
        "\n",
        "STEP_SIZE_TRAIN=train_batches.n//train_batches.batch_size\n",
        "STEP_SIZE_VALID=valid_batches.n//valid_batches.batch_size\n",
        "\n",
        "\n",
        "history = model.fit(\n",
        "    train_batches, \n",
        "    epochs=NUM_EPOCHS, steps_per_epoch=STEP_SIZE_TRAIN, \n",
        "    batch_size=BATCH_SIZE, \n",
        "    validation_data = valid_batches, validation_steps=STEP_SIZE_VALID\n",
        ")"
      ],
      "execution_count": null,
      "outputs": [
        {
          "name": "stdout",
          "output_type": "stream",
          "text": [
            "27\n",
            "7\n"
          ]
        },
        {
          "name": "stderr",
          "output_type": "stream",
          "text": [
            "D:\\downloads\\anaconda3\\lib\\site-packages\\keras_preprocessing\\image\\image_data_generator.py:720: UserWarning: This ImageDataGenerator specifies `featurewise_center`, but it hasn't been fit on any training data. Fit it first by calling `.fit(numpy_data)`.\n",
            "  warnings.warn('This ImageDataGenerator specifies '\n",
            "D:\\downloads\\anaconda3\\lib\\site-packages\\keras_preprocessing\\image\\image_data_generator.py:739: UserWarning: This ImageDataGenerator specifies `zca_whitening`, but it hasn't been fit on any training data. Fit it first by calling `.fit(numpy_data)`.\n",
            "  warnings.warn('This ImageDataGenerator specifies '\n"
          ]
        },
        {
          "name": "stdout",
          "output_type": "stream",
          "text": [
            "Epoch 1/100\n",
            "27/27 [==============================] - 33s 888ms/step - loss: 6.3754 - acc: 0.2846 - val_loss: 3.6472 - val_acc: 0.5208\n",
            "Epoch 2/100\n",
            "27/27 [==============================] - 18s 682ms/step - loss: 3.9911 - acc: 0.4821 - val_loss: 5.1257 - val_acc: 0.3542\n",
            "Epoch 3/100\n",
            "27/27 [==============================] - 18s 681ms/step - loss: 4.4674 - acc: 0.5234 - val_loss: 3.1368 - val_acc: 0.5417\n",
            "Epoch 4/100\n",
            "27/27 [==============================] - 19s 695ms/step - loss: 3.1723 - acc: 0.6085 - val_loss: 2.8029 - val_acc: 0.6250\n",
            "Epoch 5/100\n",
            "27/27 [==============================] - 19s 685ms/step - loss: 3.1735 - acc: 0.5789 - val_loss: 2.5883 - val_acc: 0.6042\n",
            "Epoch 6/100\n",
            "27/27 [==============================] - 18s 682ms/step - loss: 2.0017 - acc: 0.5924 - val_loss: 3.0670 - val_acc: 0.5833\n",
            "Epoch 7/100\n",
            "27/27 [==============================] - 19s 681ms/step - loss: 2.5531 - acc: 0.5824 - val_loss: 2.3712 - val_acc: 0.5625\n",
            "Epoch 8/100\n",
            "27/27 [==============================] - 18s 673ms/step - loss: 1.9685 - acc: 0.6575 - val_loss: 2.2886 - val_acc: 0.4792\n",
            "Epoch 9/100\n",
            "27/27 [==============================] - 19s 689ms/step - loss: 1.8148 - acc: 0.7018 - val_loss: 1.7604 - val_acc: 0.6042\n",
            "Epoch 10/100\n",
            "27/27 [==============================] - 18s 676ms/step - loss: 2.6765 - acc: 0.5635 - val_loss: 1.2414 - val_acc: 0.6667\n",
            "Epoch 11/100\n",
            "27/27 [==============================] - 18s 666ms/step - loss: 1.7684 - acc: 0.6053 - val_loss: 1.0837 - val_acc: 0.6250\n",
            "Epoch 12/100\n",
            "27/27 [==============================] - 19s 683ms/step - loss: 1.4519 - acc: 0.6371 - val_loss: 2.3088 - val_acc: 0.6042\n",
            "Epoch 13/100\n",
            "27/27 [==============================] - 18s 668ms/step - loss: 1.7741 - acc: 0.6756 - val_loss: 1.1536 - val_acc: 0.6250\n",
            "Epoch 14/100\n",
            "27/27 [==============================] - 18s 668ms/step - loss: 1.5823 - acc: 0.6039 - val_loss: 0.8685 - val_acc: 0.7292\n",
            "Epoch 15/100\n",
            "27/27 [==============================] - 18s 660ms/step - loss: 0.9587 - acc: 0.7374 - val_loss: 1.9798 - val_acc: 0.5833\n",
            "Epoch 16/100\n",
            "27/27 [==============================] - 18s 676ms/step - loss: 1.4472 - acc: 0.6512 - val_loss: 2.2057 - val_acc: 0.5833\n",
            "Epoch 17/100\n",
            "27/27 [==============================] - 19s 680ms/step - loss: 1.1575 - acc: 0.6279 - val_loss: 1.2250 - val_acc: 0.6875\n",
            "Epoch 18/100\n",
            "27/27 [==============================] - 18s 676ms/step - loss: 1.4207 - acc: 0.5918 - val_loss: 0.7621 - val_acc: 0.7083\n",
            "Epoch 19/100\n",
            "27/27 [==============================] - 18s 667ms/step - loss: 1.1796 - acc: 0.7049 - val_loss: 0.5444 - val_acc: 0.7708\n",
            "Epoch 20/100\n",
            "27/27 [==============================] - 18s 679ms/step - loss: 0.9235 - acc: 0.6494 - val_loss: 0.8058 - val_acc: 0.6875\n",
            "Epoch 21/100\n",
            "27/27 [==============================] - 18s 679ms/step - loss: 1.0491 - acc: 0.7163 - val_loss: 0.8391 - val_acc: 0.7083\n",
            "Epoch 22/100\n",
            "27/27 [==============================] - 18s 674ms/step - loss: 0.8957 - acc: 0.7488 - val_loss: 0.7248 - val_acc: 0.6875\n",
            "Epoch 23/100\n",
            "27/27 [==============================] - 18s 674ms/step - loss: 0.7515 - acc: 0.7286 - val_loss: 1.1286 - val_acc: 0.6042\n",
            "Epoch 24/100\n",
            "27/27 [==============================] - 18s 674ms/step - loss: 1.0013 - acc: 0.6831 - val_loss: 0.7784 - val_acc: 0.7708\n",
            "Epoch 25/100\n",
            "27/27 [==============================] - 18s 666ms/step - loss: 1.1342 - acc: 0.6876 - val_loss: 0.8484 - val_acc: 0.6667\n",
            "Epoch 26/100\n",
            "27/27 [==============================] - 18s 682ms/step - loss: 0.9513 - acc: 0.6819 - val_loss: 0.6132 - val_acc: 0.6875\n",
            "Epoch 27/100\n",
            "27/27 [==============================] - 18s 679ms/step - loss: 0.6700 - acc: 0.6667 - val_loss: 0.7401 - val_acc: 0.5625\n",
            "Epoch 28/100\n",
            "27/27 [==============================] - 18s 664ms/step - loss: 0.9512 - acc: 0.6964 - val_loss: 0.5261 - val_acc: 0.7292\n",
            "Epoch 29/100\n",
            "27/27 [==============================] - 17s 609ms/step - loss: 0.6694 - acc: 0.7209 - val_loss: 0.7659 - val_acc: 0.6042\n",
            "Epoch 30/100\n",
            "27/27 [==============================] - 15s 542ms/step - loss: 0.7329 - acc: 0.7698 - val_loss: 0.6976 - val_acc: 0.6458\n",
            "Epoch 31/100\n",
            "27/27 [==============================] - 15s 541ms/step - loss: 0.7671 - acc: 0.6865 - val_loss: 1.0127 - val_acc: 0.6250\n",
            "Epoch 32/100\n",
            "27/27 [==============================] - 15s 543ms/step - loss: 0.8120 - acc: 0.7093 - val_loss: 0.6831 - val_acc: 0.6458\n",
            "Epoch 33/100\n",
            "27/27 [==============================] - 15s 540ms/step - loss: 0.7305 - acc: 0.7361 - val_loss: 0.6677 - val_acc: 0.6875\n",
            "Epoch 34/100\n",
            "27/27 [==============================] - 15s 563ms/step - loss: 0.6613 - acc: 0.6919 - val_loss: 0.6181 - val_acc: 0.6667\n",
            "Epoch 35/100\n",
            "27/27 [==============================] - 15s 571ms/step - loss: 0.6201 - acc: 0.7346 - val_loss: 0.6331 - val_acc: 0.7292\n",
            "Epoch 36/100\n",
            "27/27 [==============================] - 16s 581ms/step - loss: 0.9394 - acc: 0.6757 - val_loss: 0.6144 - val_acc: 0.7292\n",
            "Epoch 37/100\n",
            "27/27 [==============================] - 15s 553ms/step - loss: 0.7278 - acc: 0.6884 - val_loss: 0.6354 - val_acc: 0.7917\n",
            "Epoch 38/100\n",
            "27/27 [==============================] - 15s 557ms/step - loss: 0.6815 - acc: 0.6858 - val_loss: 0.5742 - val_acc: 0.7083\n",
            "Epoch 39/100\n",
            "27/27 [==============================] - 15s 551ms/step - loss: 0.7491 - acc: 0.6477 - val_loss: 0.7236 - val_acc: 0.6667\n",
            "Epoch 40/100\n",
            "27/27 [==============================] - 15s 564ms/step - loss: 0.6387 - acc: 0.7695 - val_loss: 0.6195 - val_acc: 0.6875\n",
            "Epoch 41/100\n",
            "27/27 [==============================] - 15s 547ms/step - loss: 0.7194 - acc: 0.6955 - val_loss: 0.6240 - val_acc: 0.6875\n",
            "Epoch 42/100\n",
            "27/27 [==============================] - 15s 546ms/step - loss: 0.6582 - acc: 0.7087 - val_loss: 0.6195 - val_acc: 0.7083\n",
            "Epoch 43/100\n",
            "27/27 [==============================] - 15s 545ms/step - loss: 0.6380 - acc: 0.7173 - val_loss: 0.7090 - val_acc: 0.6667\n",
            "Epoch 44/100\n",
            "27/27 [==============================] - 15s 558ms/step - loss: 0.6449 - acc: 0.7374 - val_loss: 0.7256 - val_acc: 0.6250\n",
            "Epoch 45/100\n",
            "27/27 [==============================] - 15s 563ms/step - loss: 0.5901 - acc: 0.7954 - val_loss: 0.5624 - val_acc: 0.7292\n",
            "Epoch 46/100\n",
            "27/27 [==============================] - 15s 559ms/step - loss: 0.8948 - acc: 0.6908 - val_loss: 0.7737 - val_acc: 0.6458\n",
            "Epoch 47/100\n",
            "27/27 [==============================] - 15s 536ms/step - loss: 0.8152 - acc: 0.6823 - val_loss: 0.7177 - val_acc: 0.6667\n",
            "Epoch 48/100\n",
            "27/27 [==============================] - 15s 555ms/step - loss: 0.7158 - acc: 0.6870 - val_loss: 0.6537 - val_acc: 0.7917\n",
            "Epoch 49/100\n",
            "27/27 [==============================] - 15s 559ms/step - loss: 0.6504 - acc: 0.7015 - val_loss: 0.5535 - val_acc: 0.6667\n",
            "Epoch 50/100\n",
            "27/27 [==============================] - 16s 601ms/step - loss: 0.6654 - acc: 0.7239 - val_loss: 0.9537 - val_acc: 0.6042\n",
            "Epoch 51/100\n",
            "27/27 [==============================] - 16s 574ms/step - loss: 0.6522 - acc: 0.7079 - val_loss: 0.8342 - val_acc: 0.6458\n",
            "Epoch 52/100\n",
            "27/27 [==============================] - 15s 559ms/step - loss: 0.6285 - acc: 0.7380 - val_loss: 0.7062 - val_acc: 0.6667\n",
            "Epoch 53/100\n",
            "27/27 [==============================] - 16s 581ms/step - loss: 0.5916 - acc: 0.7459 - val_loss: 0.7048 - val_acc: 0.7500\n",
            "Epoch 54/100\n",
            "27/27 [==============================] - 16s 586ms/step - loss: 0.5941 - acc: 0.7486 - val_loss: 0.6676 - val_acc: 0.7500\n",
            "Epoch 55/100\n",
            "27/27 [==============================] - 16s 590ms/step - loss: 0.7505 - acc: 0.6894 - val_loss: 0.5668 - val_acc: 0.7083\n",
            "Epoch 56/100\n",
            "27/27 [==============================] - 15s 559ms/step - loss: 0.5605 - acc: 0.7613 - val_loss: 0.8058 - val_acc: 0.6458\n",
            "Epoch 57/100\n",
            "27/27 [==============================] - 15s 568ms/step - loss: 0.5906 - acc: 0.7538 - val_loss: 0.6949 - val_acc: 0.7083\n",
            "Epoch 58/100\n",
            "27/27 [==============================] - 15s 569ms/step - loss: 0.6248 - acc: 0.7616 - val_loss: 0.5481 - val_acc: 0.7500\n",
            "Epoch 59/100\n",
            "27/27 [==============================] - 15s 565ms/step - loss: 0.5763 - acc: 0.7534 - val_loss: 0.7867 - val_acc: 0.6250\n",
            "Epoch 60/100\n",
            "27/27 [==============================] - 15s 560ms/step - loss: 0.5268 - acc: 0.7664 - val_loss: 0.6047 - val_acc: 0.6458\n",
            "Epoch 61/100\n",
            "27/27 [==============================] - 19s 714ms/step - loss: 0.6119 - acc: 0.7105 - val_loss: 0.5630 - val_acc: 0.7500\n",
            "Epoch 62/100\n",
            "27/27 [==============================] - 15s 562ms/step - loss: 0.5412 - acc: 0.7719 - val_loss: 0.7738 - val_acc: 0.6875\n",
            "Epoch 63/100\n",
            "27/27 [==============================] - 15s 566ms/step - loss: 0.6349 - acc: 0.7143 - val_loss: 0.4723 - val_acc: 0.7708\n",
            "Epoch 64/100\n",
            "27/27 [==============================] - 15s 563ms/step - loss: 0.6017 - acc: 0.7676 - val_loss: 0.7356 - val_acc: 0.6458\n",
            "Epoch 65/100\n",
            "27/27 [==============================] - 15s 543ms/step - loss: 0.6115 - acc: 0.7658 - val_loss: 0.9391 - val_acc: 0.6458\n",
            "Epoch 66/100\n",
            "27/27 [==============================] - 15s 556ms/step - loss: 0.5109 - acc: 0.7857 - val_loss: 0.7958 - val_acc: 0.6667\n",
            "Epoch 67/100\n",
            "27/27 [==============================] - 15s 549ms/step - loss: 0.6900 - acc: 0.6952 - val_loss: 0.7647 - val_acc: 0.6875\n",
            "Epoch 68/100\n",
            "27/27 [==============================] - 15s 545ms/step - loss: 0.6041 - acc: 0.7138 - val_loss: 0.7422 - val_acc: 0.6875\n",
            "Epoch 69/100\n",
            "27/27 [==============================] - 15s 554ms/step - loss: 0.7708 - acc: 0.6735 - val_loss: 0.5768 - val_acc: 0.7292\n",
            "Epoch 70/100\n",
            "27/27 [==============================] - 15s 554ms/step - loss: 0.6501 - acc: 0.6629 - val_loss: 0.5303 - val_acc: 0.7083\n",
            "Epoch 71/100\n",
            "27/27 [==============================] - 18s 651ms/step - loss: 0.5674 - acc: 0.7653 - val_loss: 0.7313 - val_acc: 0.6875\n",
            "Epoch 72/100\n",
            "27/27 [==============================] - 17s 632ms/step - loss: 0.7129 - acc: 0.7411 - val_loss: 0.7008 - val_acc: 0.6667\n",
            "Epoch 73/100\n",
            "27/27 [==============================] - 16s 597ms/step - loss: 0.5912 - acc: 0.7569 - val_loss: 0.6984 - val_acc: 0.7083\n",
            "Epoch 74/100\n",
            "27/27 [==============================] - 15s 567ms/step - loss: 0.6609 - acc: 0.7131 - val_loss: 0.6403 - val_acc: 0.6458\n",
            "Epoch 75/100\n",
            "27/27 [==============================] - 16s 575ms/step - loss: 0.5568 - acc: 0.7668 - val_loss: 0.6898 - val_acc: 0.6458\n",
            "Epoch 76/100\n",
            "27/27 [==============================] - 16s 584ms/step - loss: 0.5815 - acc: 0.7392 - val_loss: 0.8531 - val_acc: 0.6667\n",
            "Epoch 77/100\n",
            "27/27 [==============================] - 16s 592ms/step - loss: 0.6675 - acc: 0.7117 - val_loss: 0.8232 - val_acc: 0.6875\n",
            "Epoch 78/100\n",
            "27/27 [==============================] - 16s 609ms/step - loss: 0.6133 - acc: 0.7070 - val_loss: 0.7496 - val_acc: 0.6667\n",
            "Epoch 79/100\n",
            "27/27 [==============================] - 16s 582ms/step - loss: 0.6972 - acc: 0.7082 - val_loss: 0.6965 - val_acc: 0.7500\n",
            "Epoch 80/100\n",
            "27/27 [==============================] - 16s 569ms/step - loss: 0.5813 - acc: 0.7615 - val_loss: 0.7696 - val_acc: 0.6667\n",
            "Epoch 81/100\n",
            "27/27 [==============================] - 15s 567ms/step - loss: 0.7723 - acc: 0.6829 - val_loss: 0.5507 - val_acc: 0.7292\n",
            "Epoch 82/100\n",
            "27/27 [==============================] - 16s 577ms/step - loss: 0.8333 - acc: 0.7017 - val_loss: 0.5607 - val_acc: 0.7500\n",
            "Epoch 83/100\n",
            "27/27 [==============================] - 15s 562ms/step - loss: 0.5629 - acc: 0.7899 - val_loss: 0.6334 - val_acc: 0.6875\n",
            "Epoch 84/100\n",
            "27/27 [==============================] - 15s 568ms/step - loss: 0.6480 - acc: 0.7318 - val_loss: 0.5921 - val_acc: 0.8125\n",
            "Epoch 85/100\n",
            "27/27 [==============================] - 16s 576ms/step - loss: 0.6523 - acc: 0.6654 - val_loss: 0.7556 - val_acc: 0.6667\n",
            "Epoch 86/100\n",
            "27/27 [==============================] - 15s 562ms/step - loss: 0.6343 - acc: 0.7316 - val_loss: 0.7051 - val_acc: 0.7292\n",
            "Epoch 87/100\n",
            "27/27 [==============================] - 15s 567ms/step - loss: 0.7621 - acc: 0.6934 - val_loss: 0.8784 - val_acc: 0.6667\n",
            "Epoch 88/100\n",
            "27/27 [==============================] - 15s 547ms/step - loss: 0.6006 - acc: 0.7627 - val_loss: 0.9924 - val_acc: 0.6250\n",
            "Epoch 89/100\n",
            "27/27 [==============================] - 15s 538ms/step - loss: 0.6824 - acc: 0.7164 - val_loss: 0.7398 - val_acc: 0.7083\n",
            "Epoch 90/100\n",
            "27/27 [==============================] - 16s 576ms/step - loss: 0.6169 - acc: 0.7004 - val_loss: 0.7773 - val_acc: 0.7292\n",
            "Epoch 91/100\n",
            "27/27 [==============================] - 16s 580ms/step - loss: 0.8088 - acc: 0.6773 - val_loss: 0.9423 - val_acc: 0.6042\n",
            "Epoch 92/100\n",
            "27/27 [==============================] - 15s 544ms/step - loss: 0.5230 - acc: 0.7859 - val_loss: 0.6786 - val_acc: 0.7708\n",
            "Epoch 93/100\n",
            "27/27 [==============================] - 16s 574ms/step - loss: 0.5914 - acc: 0.7190 - val_loss: 0.6264 - val_acc: 0.7500\n",
            "Epoch 94/100\n",
            "27/27 [==============================] - 16s 585ms/step - loss: 0.6151 - acc: 0.7656 - val_loss: 1.0658 - val_acc: 0.5833\n",
            "Epoch 95/100\n",
            "27/27 [==============================] - 16s 579ms/step - loss: 0.6008 - acc: 0.7715 - val_loss: 1.0154 - val_acc: 0.5833\n",
            "Epoch 96/100\n",
            "27/27 [==============================] - 16s 603ms/step - loss: 0.6489 - acc: 0.7106 - val_loss: 0.5900 - val_acc: 0.7500\n",
            "Epoch 97/100\n",
            "27/27 [==============================] - 15s 570ms/step - loss: 0.5653 - acc: 0.7419 - val_loss: 0.9214 - val_acc: 0.5625\n",
            "Epoch 98/100\n",
            "27/27 [==============================] - 15s 560ms/step - loss: 0.5790 - acc: 0.7752 - val_loss: 0.7909 - val_acc: 0.6667\n",
            "Epoch 99/100\n",
            "27/27 [==============================] - 15s 567ms/step - loss: 0.5758 - acc: 0.7348 - val_loss: 0.8234 - val_acc: 0.6250\n",
            "Epoch 100/100\n",
            "27/27 [==============================] - 15s 568ms/step - loss: 0.6260 - acc: 0.7854 - val_loss: 0.8146 - val_acc: 0.7292\n"
          ]
        }
      ]
    },
    {
      "cell_type": "markdown",
      "metadata": {
        "nbpresent": {
          "id": "66140980-2aa4-457f-b1df-74c10c234cc2"
        },
        "id": "XLUOFC5ueOHO"
      },
      "source": [
        "#### [5 points] Plot Accuracy and Loss During Training"
      ]
    },
    {
      "cell_type": "code",
      "metadata": {
        "nbpresent": {
          "id": "ff342098-784a-4e20-ac34-b74ca8ebe839"
        },
        "id": "xpgwkylWeOHO",
        "outputId": "d62dfb2e-2f63-4b6d-fd0f-7a0be7f9ce19"
      },
      "source": [
        "import matplotlib.pyplot as plt\n",
        "\n",
        "\n",
        "plt.rcParams['figure.figsize'] = [12, 5]\n",
        "fig, (ax1, ax2) = plt.subplots(1, 2)\n",
        "\n",
        "\n",
        "ax1.plot(history.history['acc'], label = 'Train_acc')\n",
        "ax1.plot(history.history['val_acc'], label = 'Test_acc')\n",
        "ax1.set_title(\"Accuracy over 100 Epochs\")\n",
        "ax1.legend(['Train_acc','Test_acc'])\n",
        "ax1.grid()\n",
        "ax1.set_yticks([0.45, 0.5,0.55,0.6,0.65,0.7,0.75,0.8])\n",
        "ax1.set_ylim([0.4,0.85])\n",
        "\n",
        "ax2.plot(history.history['loss'], label = 'Train_loss')\n",
        "ax2.plot(history.history['val_loss'], label = 'Test_loss')\n",
        "ax2.set_title(\"Loss over 100 Epochs\")\n",
        "ax2.legend(['Train_loss','Test_loss'])\n",
        "ax2.set_ylim([0,3])\n",
        "ax2.grid()\n",
        "\n",
        "\n",
        "plt.show()"
      ],
      "execution_count": null,
      "outputs": [
        {
          "data": {
            "image/png": "[encoded data removed]",
            "text/plain": [
              "<Figure size 864x360 with 2 Axes>"
            ]
          },
          "metadata": {
            "needs_background": "light"
          },
          "output_type": "display_data"
        }
      ]
    },
    {
      "cell_type": "markdown",
      "metadata": {
        "nbpresent": {
          "id": "66140980-2aa4-457f-b1df-74c10c234cc2"
        },
        "id": "KGA-4se9eOHO"
      },
      "source": [
        "#### Testing Model"
      ]
    },
    {
      "cell_type": "code",
      "metadata": {
        "id": "45Q-B8pBeOHP",
        "outputId": "a8d24db1-41e3-4459-e76b-1283dd7917bd"
      },
      "source": [
        "test_datagen = ImageDataGenerator(rescale=1. / 255)\n",
        "\n",
        "eval_generator = test_datagen.flow_from_directory(TEST_DIR,target_size=IMAGE_SIZE,\n",
        "                                                  batch_size=1,shuffle=True,seed=42,class_mode=\"categorical\")\n",
        "eval_generator.reset()\n",
        "print(len(eval_generator))\n",
        "x = model.evaluate_generator(eval_generator,steps = np.ceil(len(eval_generator)),\n",
        "                           use_multiprocessing = False,verbose = 1,workers=1)\n",
        "print('Test loss:' , x[0])\n",
        "print('Test accuracy:',x[1])"
      ],
      "execution_count": null,
      "outputs": [
        {
          "name": "stdout",
          "output_type": "stream",
          "text": [
            "Found 36 images belonging to 4 classes.\n",
            "36\n",
            "36/36 [==============================] - 3s 74ms/step - loss: 0.7143 - acc: 0.6667\n",
            "Test loss: 0.7143376469612122\n",
            "Test accuracy: 0.6666666865348816\n"
          ]
        }
      ]
    },
    {
      "cell_type": "markdown",
      "metadata": {
        "nbpresent": {
          "id": "66140980-2aa4-457f-b1df-74c10c234cc2"
        },
        "id": "vWQOBl6deOHP"
      },
      "source": [
        "## [10 points] TSNE Plot\n",
        "t-Distributed Stochastic Neighbor Embedding (t-SNE) is a widely used technique for dimensionality reduction that is particularly well suited for the visualization of high-dimensional datasets. After training is complete, extract features from a specific deep layer of your choice, use t-SNE to reduce the dimensionality of your extracted features to 2 dimensions and plot the resulting 2D features."
      ]
    },
    {
      "cell_type": "code",
      "metadata": {
        "id": "142W5LXzeOHQ",
        "outputId": "5ec5dec3-4f21-4183-c7f3-3b8ddd0f48c4"
      },
      "source": [
        "from sklearn.manifold import TSNE\n",
        "import seaborn as sns\n",
        "\n",
        "intermediate_layer_model = tf.keras.models.Model(inputs=model.input,\n",
        "                                        outputs=model.get_layer('dense_feature').output)\n",
        "\n",
        "tsne_eval_generator = test_datagen.flow_from_directory(DATASET_PATH,target_size=IMAGE_SIZE,\n",
        "                                                  batch_size=1,shuffle=False,seed=42,class_mode=\"categorical\")\n",
        "\n",
        "plt.rcParams['figure.figsize'] = [7, 5]\n",
        "\n",
        "intermediate_output = intermediate_layer_model.predict(tsne_eval_generator)\n",
        "tsne = TSNE(n_components=2)\n",
        "results = tsne.fit_transform(intermediate_output)\n",
        "h = tsne_eval_generator.labels\n",
        "sns.scatterplot(x = results[:,0], y = results[:,1], legend = 'full', hue= h, palette=[\"blue\", \"yellow\",\"red\",\"green\"])\n",
        "\n",
        "L=plt.legend()\n",
        "L.get_texts()[0].set_text('COVID-19')\n",
        "L.get_texts()[1].set_text('Normal')\n",
        "L.get_texts()[2].set_text('Pneumonia_bac')\n",
        "L.get_texts()[3].set_text('Pneumonia_vir')"
      ],
      "execution_count": null,
      "outputs": [
        {
          "name": "stdout",
          "output_type": "stream",
          "text": [
            "Found 270 images belonging to 4 classes.\n"
          ]
        },
        {
          "data": {
            "image/png": "[encoded data removed]",
            "text/plain": [
              "<Figure size 504x360 with 1 Axes>"
            ]
          },
          "metadata": {
            "needs_background": "light"
          },
          "output_type": "display_data"
        }
      ]
    },
    {
      "cell_type": "code",
      "source": [
        ""
      ],
      "metadata": {
        "id": "4mhyGWCvWj2w"
      },
      "execution_count": null,
      "outputs": []
    },
    {
      "cell_type": "markdown",
      "metadata": {
        "id": "u_bpC3E-eOHR"
      },
      "source": [
        "<!-- ## Task 2: COVID-19 vs Normal vs Tertiary Pneumonia (Bacterial and Viral) -->"
      ]
    },
    {
      "cell_type": "markdown",
      "metadata": {
        "nbpresent": {
          "id": "66140980-2aa4-457f-b1df-74c10c234cc2"
        },
        "id": "B9HM7Q6zeOHR"
      },
      "source": [
        "<!-- #### Renew Training Batch and Validation Batch -->"
      ]
    },
    {
      "cell_type": "markdown",
      "metadata": {
        "nbpresent": {
          "id": "66140980-2aa4-457f-b1df-74c10c234cc2"
        },
        "id": "HFm-ev0IeOHR"
      },
      "source": [
        "<!-- #### Renew Model -->"
      ]
    }
  ]
}