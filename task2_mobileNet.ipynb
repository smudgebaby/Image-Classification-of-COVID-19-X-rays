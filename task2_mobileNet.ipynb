{
  "nbformat": 4,
  "nbformat_minor": 0,
  "metadata": {
    "kernelspec": {
      "display_name": "Python 3",
      "language": "python",
      "name": "python3"
    },
    "language_info": {
      "codemirror_mode": {
        "name": "ipython",
        "version": 3
      },
      "file_extension": ".py",
      "mimetype": "text/x-python",
      "name": "python",
      "nbconvert_exporter": "python",
      "pygments_lexer": "ipython3",
      "version": "3.8.5"
    },
    "latex_envs": {
      "LaTeX_envs_menu_present": true,
      "autoclose": false,
      "autocomplete": true,
      "bibliofile": "biblio.bib",
      "cite_by": "apalike",
      "current_citInitial": 1,
      "eqLabelWithNumbers": true,
      "eqNumInitial": 1,
      "hotkeys": {
        "equation": "Ctrl-E",
        "itemize": "Ctrl-I"
      },
      "labels_anchors": false,
      "latex_user_defs": false,
      "report_style_numbering": false,
      "user_envs_cfg": false
    },
    "toc": {
      "base_numbering": 1,
      "nav_menu": {},
      "number_sections": true,
      "sideBar": true,
      "skip_h1_title": false,
      "title_cell": "Table of Contents",
      "title_sidebar": "Contents",
      "toc_cell": false,
      "toc_position": {},
      "toc_section_display": true,
      "toc_window_display": false
    },
    "varInspector": {
      "cols": {
        "lenName": 16,
        "lenType": 16,
        "lenVar": 40
      },
      "kernels_config": {
        "python": {
          "delete_cmd_postfix": "",
          "delete_cmd_prefix": "del ",
          "library": "var_list.py",
          "varRefreshCmd": "print(var_dic_list())"
        },
        "r": {
          "delete_cmd_postfix": ") ",
          "delete_cmd_prefix": "rm(",
          "library": "var_list.r",
          "varRefreshCmd": "cat(var_dic_list()) "
        }
      },
      "types_to_exclude": [
        "module",
        "function",
        "builtin_function_or_method",
        "instance",
        "_Feature"
      ],
      "window_display": false
    },
    "colab": {
      "name": "task2_mobileNet.ipynb",
      "provenance": [],
      "collapsed_sections": []
    }
  },
  "cells": [
    {
      "cell_type": "markdown",
      "metadata": {
        "nbpresent": {
          "id": "1d234e3f-af8b-4757-83f3-241b04b7a511"
        },
        "id": "yEBppRTadwhA"
      },
      "source": [
        "# Class Challenge: Image Classification of COVID-19 X-rays\n",
        "# Task 2 [Total points: 30]"
      ]
    },
    {
      "cell_type": "markdown",
      "metadata": {
        "nbpresent": {
          "id": "b07b9992-b592-4871-9f9a-3b0ae5fa8b5f"
        },
        "id": "xxe6P5kfdwhG"
      },
      "source": [
        "## Setup\n",
        "\n",
        "* This assignment involves the following packages: 'matplotlib', 'numpy', and 'sklearn'. \n",
        "\n",
        "* If you are using conda, use the following commands to install the above packages:<br>\n",
        "```shell\n",
        "conda install matplotlib\n",
        "conda install numpy\n",
        "conda install -c anaconda scikit-learn\n",
        "```\n",
        "\n",
        "* If you are using pip, use use the following commands to install the above packages: <br> \n",
        "```shell\n",
        "pip install matplotlib\n",
        "pip install numpy\n",
        "pip install sklearn\n",
        "```"
      ]
    },
    {
      "cell_type": "markdown",
      "metadata": {
        "nbpresent": {
          "id": "5516f610-f00c-43c3-bf19-4cf7ab9c089f"
        },
        "id": "fPY40GjkdwhH"
      },
      "source": [
        "## Data\n",
        "\n",
        "Please download the data using the following link: [COVID-19](https://drive.google.com/file/d/1Y88tgqpQ1Pjko_7rntcPowOJs_QNOrJ-/view). \n",
        "\n",
        "* After downloading 'Covid_Data_GradientCrescent.zip', unzip the file and you should see the following data structure:\n",
        "\n",
        "\n",
        "|--all<br>\n",
        "|--------train<br>\n",
        "|--------test<br>\n",
        "|--two<br>\n",
        "|--------train<br>\n",
        "|--------test<br>\n",
        "\n",
        "\n",
        "* Put the 'all' folder, the 'two' folder and this python notebook in the **same directory** so that the following code can correctly locate the data.  \n",
        "\n"
      ]
    },
    {
      "cell_type": "markdown",
      "metadata": {
        "nbpresent": {
          "id": "66140980-2aa4-457f-b1df-74c10c234cc2"
        },
        "id": "J6aAp9CrdwhJ"
      },
      "source": [
        "## [20 points] Multi-class Classification"
      ]
    },
    {
      "cell_type": "code",
      "metadata": {
        "nbpresent": {
          "id": "5e05f980-3d14-4367-b3d1-664249145b13"
        },
        "scrolled": true,
        "id": "FmQ8oHMydwhK",
        "outputId": "b69adb47-d297-4f0d-e0d0-8639308f921a"
      },
      "source": [
        "import os\n",
        "\n",
        "import tensorflow as tf\n",
        "import numpy as np\n",
        "import matplotlib.pyplot as plt\n",
        "from tensorflow.keras.preprocessing.image import ImageDataGenerator\n",
        "\n",
        "os.environ['OMP_NUM_THREADS'] = '1'\n",
        "os.environ['CUDA_VISIBLE_DEVICES'] = '-1'\n",
        "tf.__version__"
      ],
      "execution_count": null,
      "outputs": [
        {
          "data": {
            "text/plain": [
              "'2.4.1'"
            ]
          },
          "execution_count": 1,
          "metadata": {},
          "output_type": "execute_result"
        }
      ]
    },
    {
      "cell_type": "markdown",
      "metadata": {
        "nbpresent": {
          "id": "66140980-2aa4-457f-b1df-74c10c234cc2"
        },
        "id": "FCYpSYcOdwhO"
      },
      "source": [
        "#### Load Image Data"
      ]
    },
    {
      "cell_type": "code",
      "metadata": {
        "nbpresent": {
          "id": "58317664-8da3-4283-b3e5-35721687e7ab"
        },
        "id": "eeCV7S5EdwhP"
      },
      "source": [
        "DATA_LIST = os.listdir('all/train')\n",
        "DATASET_PATH  = 'all/train'\n",
        "TEST_DIR =  'all/test'\n",
        "IMAGE_SIZE    = (224, 224)\n",
        "NUM_CLASSES   = len(DATA_LIST)\n",
        "BATCH_SIZE    = 8  \n",
        "NUM_EPOCHS    = 100\n",
        "LEARNING_RATE = 0.0005 "
      ],
      "execution_count": null,
      "outputs": []
    },
    {
      "cell_type": "markdown",
      "metadata": {
        "nbpresent": {
          "id": "66140980-2aa4-457f-b1df-74c10c234cc2"
        },
        "id": "PBRrEE0PdwhQ"
      },
      "source": [
        "#### Generate Training and Validation Batches"
      ]
    },
    {
      "cell_type": "code",
      "metadata": {
        "nbpresent": {
          "id": "71760e29-2b08-4259-93f1-ebe68cd74a6d"
        },
        "id": "TQYj_oKHdwhR",
        "outputId": "797c86cf-b5f4-4c35-c1cf-41f9b993ba3a"
      },
      "source": [
        "train_datagen = ImageDataGenerator(rescale=1./255,rotation_range=50,featurewise_center = True,\n",
        "                                   featurewise_std_normalization = True,width_shift_range=0.2,\n",
        "                                   height_shift_range=0.2,shear_range=0.25,zoom_range=0.1,\n",
        "                                   zca_whitening = True,channel_shift_range = 20,\n",
        "                                   horizontal_flip = True,vertical_flip = True,\n",
        "                                   validation_split = 0.2,fill_mode='constant')\n",
        "\n",
        "\n",
        "train_batches = train_datagen.flow_from_directory(DATASET_PATH,target_size=IMAGE_SIZE,\n",
        "                                                  shuffle=True,batch_size=BATCH_SIZE,\n",
        "                                                  subset = \"training\",seed=42,\n",
        "                                                  class_mode=\"categorical\")\n",
        "\n",
        "valid_batches = train_datagen.flow_from_directory(DATASET_PATH,target_size=IMAGE_SIZE,\n",
        "                                                  shuffle=True,batch_size=BATCH_SIZE,\n",
        "                                                  subset = \"validation\",\n",
        "                                                  seed=42,class_mode=\"categorical\")"
      ],
      "execution_count": null,
      "outputs": [
        {
          "name": "stdout",
          "output_type": "stream",
          "text": [
            "Found 216 images belonging to 4 classes.\n",
            "Found 54 images belonging to 4 classes.\n"
          ]
        }
      ]
    },
    {
      "cell_type": "markdown",
      "metadata": {
        "nbpresent": {
          "id": "66140980-2aa4-457f-b1df-74c10c234cc2"
        },
        "id": "ILgDJQ36dwhT"
      },
      "source": [
        "#### [10 points] Build Model\n",
        "Hint: Starting from a pre-trained model typically helps performance on a new task, e.g. starting with weights obtained by training on ImageNet. "
      ]
    },
    {
      "cell_type": "code",
      "metadata": {
        "nbpresent": {
          "id": "5c52eeb2-1092-4d45-9e16-02219c82cb5e"
        },
        "id": "LHjxqRXMdwhU",
        "outputId": "b5489d1f-1286-42f4-90cf-20963bfd9947"
      },
      "source": [
        "\n",
        "mob_model = tf.keras.applications.MobileNet(\n",
        "    weights = \"imagenet\",\n",
        "    input_shape = (224, 224, 3),\n",
        "    include_top = False\n",
        ")\n",
        "\n",
        "mob_model.trainable = False\n",
        "\n",
        "model = tf.keras.models.Sequential()\n",
        "model.add(mob_model)\n",
        "model.add(tf.keras.layers.AveragePooling2D(pool_size=(3,3)))\n",
        "model.add(tf.keras.layers.Flatten())\n",
        "model.add(tf.keras.layers.Dropout(rate = 0.5))\n",
        "model.add(tf.keras.layers.Dense(256, name = \"dense_feature\"))\n",
        "model.add(tf.keras.layers.Dense(4, activation='softmax'))\n",
        "model.summary()"
      ],
      "execution_count": null,
      "outputs": [
        {
          "name": "stdout",
          "output_type": "stream",
          "text": [
            "Model: \"sequential_2\"\n",
            "_________________________________________________________________\n",
            "Layer (type)                 Output Shape              Param #   \n",
            "=================================================================\n",
            "mobilenet_1.00_224 (Function (None, 7, 7, 1024)        3228864   \n",
            "_________________________________________________________________\n",
            "average_pooling2d_1 (Average (None, 2, 2, 1024)        0         \n",
            "_________________________________________________________________\n",
            "flatten_1 (Flatten)          (None, 4096)              0         \n",
            "_________________________________________________________________\n",
            "dropout_1 (Dropout)          (None, 4096)              0         \n",
            "_________________________________________________________________\n",
            "dense_feature (Dense)        (None, 256)               1048832   \n",
            "_________________________________________________________________\n",
            "dense_1 (Dense)              (None, 4)                 1028      \n",
            "=================================================================\n",
            "Total params: 4,278,724\n",
            "Trainable params: 1,049,860\n",
            "Non-trainable params: 3,228,864\n",
            "_________________________________________________________________\n"
          ]
        }
      ]
    },
    {
      "cell_type": "markdown",
      "metadata": {
        "nbpresent": {
          "id": "66140980-2aa4-457f-b1df-74c10c234cc2"
        },
        "id": "mQXEDI8vdwhV"
      },
      "source": [
        "#### [5 points] Train Model"
      ]
    },
    {
      "cell_type": "code",
      "metadata": {
        "nbpresent": {
          "id": "cdb90d24-6a23-4969-8138-f37e7050062d"
        },
        "scrolled": true,
        "id": "ltyxq-xxdwhW",
        "outputId": "e8bc5d16-69eb-4854-b1a6-4d8cd7fc5e62"
      },
      "source": [
        "model.compile(optimizer='adam',\n",
        "                loss=tf.keras.losses.CategoricalCrossentropy(from_logits=True),\n",
        "                metrics=['acc'])\n",
        "\n",
        "#FIT MODEL\n",
        "print(len(train_batches))\n",
        "print(len(valid_batches))\n",
        "\n",
        "STEP_SIZE_TRAIN=train_batches.n//train_batches.batch_size\n",
        "STEP_SIZE_VALID=valid_batches.n//valid_batches.batch_size\n",
        "\n",
        "\n",
        "history = model.fit(\n",
        "    train_batches, \n",
        "    epochs=NUM_EPOCHS, steps_per_epoch=STEP_SIZE_TRAIN, \n",
        "    batch_size=BATCH_SIZE, \n",
        "    validation_data = valid_batches, validation_steps=STEP_SIZE_VALID\n",
        ")"
      ],
      "execution_count": null,
      "outputs": [
        {
          "name": "stdout",
          "output_type": "stream",
          "text": [
            "27\n",
            "7\n",
            "Epoch 1/100\n",
            "27/27 [==============================] - 10s 323ms/step - loss: 11.2312 - acc: 0.3311 - val_loss: 3.0569 - val_acc: 0.6667\n",
            "Epoch 2/100\n",
            "27/27 [==============================] - 8s 296ms/step - loss: 3.0541 - acc: 0.6738 - val_loss: 3.5744 - val_acc: 0.5625\n",
            "Epoch 3/100\n",
            "27/27 [==============================] - 8s 294ms/step - loss: 4.1460 - acc: 0.6065 - val_loss: 4.0156 - val_acc: 0.6458\n",
            "Epoch 4/100\n",
            "27/27 [==============================] - 8s 292ms/step - loss: 4.0945 - acc: 0.6594 - val_loss: 5.6033 - val_acc: 0.6042\n",
            "Epoch 5/100\n",
            "27/27 [==============================] - 8s 295ms/step - loss: 4.5603 - acc: 0.6335 - val_loss: 4.6616 - val_acc: 0.6458\n",
            "Epoch 6/100\n",
            "27/27 [==============================] - 8s 296ms/step - loss: 3.2647 - acc: 0.6697 - val_loss: 3.2009 - val_acc: 0.6875\n",
            "Epoch 7/100\n",
            "27/27 [==============================] - 8s 297ms/step - loss: 2.3566 - acc: 0.7078 - val_loss: 3.0525 - val_acc: 0.6250\n",
            "Epoch 8/100\n",
            "27/27 [==============================] - 8s 295ms/step - loss: 2.3730 - acc: 0.7096 - val_loss: 2.2620 - val_acc: 0.6042\n",
            "Epoch 9/100\n",
            "27/27 [==============================] - 8s 289ms/step - loss: 2.1428 - acc: 0.7233 - val_loss: 1.9770 - val_acc: 0.5833\n",
            "Epoch 10/100\n",
            "27/27 [==============================] - 8s 292ms/step - loss: 2.3856 - acc: 0.6956 - val_loss: 1.6598 - val_acc: 0.6458\n",
            "Epoch 11/100\n",
            "27/27 [==============================] - 8s 299ms/step - loss: 2.0523 - acc: 0.7196 - val_loss: 1.2245 - val_acc: 0.7083\n",
            "Epoch 12/100\n",
            "27/27 [==============================] - 8s 296ms/step - loss: 1.1680 - acc: 0.7906 - val_loss: 2.5238 - val_acc: 0.6250\n",
            "Epoch 13/100\n",
            "27/27 [==============================] - 8s 292ms/step - loss: 1.2114 - acc: 0.8334 - val_loss: 1.7448 - val_acc: 0.6458\n",
            "Epoch 14/100\n",
            "27/27 [==============================] - 8s 296ms/step - loss: 1.2012 - acc: 0.7762 - val_loss: 1.1534 - val_acc: 0.6458\n",
            "Epoch 15/100\n",
            "27/27 [==============================] - 8s 293ms/step - loss: 1.5160 - acc: 0.7145 - val_loss: 0.9955 - val_acc: 0.6875\n",
            "Epoch 16/100\n",
            "27/27 [==============================] - 8s 297ms/step - loss: 0.8387 - acc: 0.7865 - val_loss: 0.6312 - val_acc: 0.7083\n",
            "Epoch 17/100\n",
            "27/27 [==============================] - 8s 296ms/step - loss: 0.7594 - acc: 0.7668 - val_loss: 0.7860 - val_acc: 0.7083\n",
            "Epoch 18/100\n",
            "27/27 [==============================] - 8s 295ms/step - loss: 0.8099 - acc: 0.7549 - val_loss: 1.1135 - val_acc: 0.7083\n",
            "Epoch 19/100\n",
            "27/27 [==============================] - 8s 296ms/step - loss: 1.0509 - acc: 0.7084 - val_loss: 2.5376 - val_acc: 0.5833\n",
            "Epoch 20/100\n",
            "27/27 [==============================] - 8s 298ms/step - loss: 0.7945 - acc: 0.8011 - val_loss: 1.1394 - val_acc: 0.7083\n",
            "Epoch 21/100\n",
            "27/27 [==============================] - 8s 299ms/step - loss: 1.0960 - acc: 0.7227 - val_loss: 0.8010 - val_acc: 0.8333\n",
            "Epoch 22/100\n",
            "27/27 [==============================] - 8s 291ms/step - loss: 0.9010 - acc: 0.7823 - val_loss: 0.8499 - val_acc: 0.6875\n",
            "Epoch 23/100\n",
            "27/27 [==============================] - 8s 291ms/step - loss: 0.7447 - acc: 0.7551 - val_loss: 0.9075 - val_acc: 0.8125\n",
            "Epoch 24/100\n",
            "27/27 [==============================] - 8s 292ms/step - loss: 0.7742 - acc: 0.7721 - val_loss: 1.6915 - val_acc: 0.6875\n",
            "Epoch 25/100\n",
            "27/27 [==============================] - 8s 296ms/step - loss: 0.7604 - acc: 0.7337 - val_loss: 1.3095 - val_acc: 0.6875\n",
            "Epoch 26/100\n",
            "27/27 [==============================] - 8s 294ms/step - loss: 0.5772 - acc: 0.8336 - val_loss: 1.2574 - val_acc: 0.6458\n",
            "Epoch 27/100\n",
            "27/27 [==============================] - 8s 293ms/step - loss: 0.6558 - acc: 0.7781 - val_loss: 1.5179 - val_acc: 0.6667\n",
            "Epoch 28/100\n",
            "27/27 [==============================] - 8s 291ms/step - loss: 0.8765 - acc: 0.7308 - val_loss: 0.8431 - val_acc: 0.7708\n",
            "Epoch 29/100\n",
            "27/27 [==============================] - 8s 293ms/step - loss: 0.6724 - acc: 0.8165 - val_loss: 0.8781 - val_acc: 0.7917\n",
            "Epoch 30/100\n",
            "27/27 [==============================] - 8s 288ms/step - loss: 0.7340 - acc: 0.7562 - val_loss: 0.5890 - val_acc: 0.6667\n",
            "Epoch 31/100\n",
            "27/27 [==============================] - 8s 295ms/step - loss: 0.7749 - acc: 0.7641 - val_loss: 1.0802 - val_acc: 0.6667\n",
            "Epoch 32/100\n",
            "27/27 [==============================] - 8s 296ms/step - loss: 0.6995 - acc: 0.7746 - val_loss: 1.7057 - val_acc: 0.6458\n",
            "Epoch 33/100\n",
            "27/27 [==============================] - 8s 295ms/step - loss: 0.6776 - acc: 0.7561 - val_loss: 0.8243 - val_acc: 0.6667\n",
            "Epoch 34/100\n",
            "27/27 [==============================] - 8s 297ms/step - loss: 0.7412 - acc: 0.7768 - val_loss: 1.0690 - val_acc: 0.6250\n",
            "Epoch 35/100\n",
            "27/27 [==============================] - 8s 308ms/step - loss: 0.5689 - acc: 0.7782 - val_loss: 0.7362 - val_acc: 0.7708\n",
            "Epoch 36/100\n",
            "27/27 [==============================] - 8s 311ms/step - loss: 0.5269 - acc: 0.8105 - val_loss: 0.6282 - val_acc: 0.7708\n",
            "Epoch 37/100\n",
            "27/27 [==============================] - 8s 303ms/step - loss: 0.5517 - acc: 0.7402 - val_loss: 0.5984 - val_acc: 0.7917\n",
            "Epoch 38/100\n",
            "27/27 [==============================] - 8s 295ms/step - loss: 0.4117 - acc: 0.8286 - val_loss: 0.6388 - val_acc: 0.7708\n",
            "Epoch 39/100\n",
            "27/27 [==============================] - 8s 300ms/step - loss: 0.4453 - acc: 0.7870 - val_loss: 0.9935 - val_acc: 0.7083\n",
            "Epoch 40/100\n",
            "27/27 [==============================] - 8s 297ms/step - loss: 0.4734 - acc: 0.8332 - val_loss: 0.6494 - val_acc: 0.7083\n",
            "Epoch 41/100\n",
            "27/27 [==============================] - 8s 300ms/step - loss: 0.4635 - acc: 0.8191 - val_loss: 0.9619 - val_acc: 0.6250\n",
            "Epoch 42/100\n",
            "27/27 [==============================] - 8s 299ms/step - loss: 0.5217 - acc: 0.8039 - val_loss: 0.7039 - val_acc: 0.7083\n",
            "Epoch 43/100\n",
            "27/27 [==============================] - 8s 293ms/step - loss: 0.4188 - acc: 0.8433 - val_loss: 0.8029 - val_acc: 0.6667\n",
            "Epoch 44/100\n",
            "27/27 [==============================] - 8s 295ms/step - loss: 0.5868 - acc: 0.7902 - val_loss: 0.7478 - val_acc: 0.6875\n",
            "Epoch 45/100\n",
            "27/27 [==============================] - 8s 292ms/step - loss: 0.5350 - acc: 0.7510 - val_loss: 0.6239 - val_acc: 0.7083\n",
            "Epoch 46/100\n",
            "27/27 [==============================] - 8s 297ms/step - loss: 0.5295 - acc: 0.7857 - val_loss: 0.7166 - val_acc: 0.6875\n",
            "Epoch 47/100\n",
            "27/27 [==============================] - 8s 302ms/step - loss: 0.5475 - acc: 0.7698 - val_loss: 0.8303 - val_acc: 0.6250\n",
            "Epoch 48/100\n",
            "27/27 [==============================] - 8s 295ms/step - loss: 0.5485 - acc: 0.7594 - val_loss: 0.4036 - val_acc: 0.8333\n",
            "Epoch 49/100\n",
            "27/27 [==============================] - 8s 301ms/step - loss: 0.5463 - acc: 0.7548 - val_loss: 0.5986 - val_acc: 0.7292\n",
            "Epoch 50/100\n",
            "27/27 [==============================] - 8s 303ms/step - loss: 0.6422 - acc: 0.7652 - val_loss: 0.6672 - val_acc: 0.7292\n",
            "Epoch 51/100\n",
            "27/27 [==============================] - 9s 325ms/step - loss: 0.4828 - acc: 0.7493 - val_loss: 0.6434 - val_acc: 0.6875\n",
            "Epoch 52/100\n",
            "27/27 [==============================] - 9s 325ms/step - loss: 0.5168 - acc: 0.7596 - val_loss: 1.0131 - val_acc: 0.5833\n",
            "Epoch 53/100\n",
            "27/27 [==============================] - 8s 306ms/step - loss: 0.4663 - acc: 0.8553 - val_loss: 0.6286 - val_acc: 0.7500\n",
            "Epoch 54/100\n",
            "27/27 [==============================] - 8s 303ms/step - loss: 0.3647 - acc: 0.8371 - val_loss: 0.4446 - val_acc: 0.7708\n",
            "Epoch 55/100\n",
            "27/27 [==============================] - 8s 313ms/step - loss: 0.4588 - acc: 0.8074 - val_loss: 0.6856 - val_acc: 0.6667\n",
            "Epoch 56/100\n",
            "27/27 [==============================] - 9s 316ms/step - loss: 0.5935 - acc: 0.7530 - val_loss: 0.5967 - val_acc: 0.7292\n",
            "Epoch 57/100\n",
            "27/27 [==============================] - 8s 304ms/step - loss: 0.5935 - acc: 0.7932 - val_loss: 0.7353 - val_acc: 0.6875\n",
            "Epoch 58/100\n",
            "27/27 [==============================] - 8s 302ms/step - loss: 0.6515 - acc: 0.7656 - val_loss: 0.6026 - val_acc: 0.7083\n",
            "Epoch 59/100\n",
            "27/27 [==============================] - 8s 294ms/step - loss: 0.5735 - acc: 0.7760 - val_loss: 0.7741 - val_acc: 0.6875\n",
            "Epoch 60/100\n",
            "27/27 [==============================] - 8s 297ms/step - loss: 0.5044 - acc: 0.7854 - val_loss: 0.5395 - val_acc: 0.8125\n",
            "Epoch 61/100\n",
            "27/27 [==============================] - 8s 300ms/step - loss: 0.4948 - acc: 0.7503 - val_loss: 0.5659 - val_acc: 0.7500\n",
            "Epoch 62/100\n",
            "27/27 [==============================] - 8s 303ms/step - loss: 0.3943 - acc: 0.8193 - val_loss: 0.5311 - val_acc: 0.7708\n",
            "Epoch 63/100\n",
            "27/27 [==============================] - 8s 312ms/step - loss: 0.5046 - acc: 0.8052 - val_loss: 0.8750 - val_acc: 0.6458\n",
            "Epoch 64/100\n",
            "27/27 [==============================] - 8s 291ms/step - loss: 0.5119 - acc: 0.7627 - val_loss: 0.7868 - val_acc: 0.6875\n",
            "Epoch 65/100\n",
            "27/27 [==============================] - 8s 298ms/step - loss: 0.4463 - acc: 0.8244 - val_loss: 0.7574 - val_acc: 0.6875\n",
            "Epoch 66/100\n",
            "27/27 [==============================] - 8s 299ms/step - loss: 0.4131 - acc: 0.8158 - val_loss: 0.8370 - val_acc: 0.6667\n",
            "Epoch 67/100\n",
            "27/27 [==============================] - 8s 300ms/step - loss: 0.5376 - acc: 0.7748 - val_loss: 0.4540 - val_acc: 0.7500\n",
            "Epoch 68/100\n",
            "27/27 [==============================] - 8s 304ms/step - loss: 0.5658 - acc: 0.7857 - val_loss: 0.8571 - val_acc: 0.6875\n",
            "Epoch 69/100\n",
            "27/27 [==============================] - 8s 307ms/step - loss: 0.4172 - acc: 0.8612 - val_loss: 0.5955 - val_acc: 0.7708\n",
            "Epoch 70/100\n",
            "27/27 [==============================] - 15s 547ms/step - loss: 0.3621 - acc: 0.8547 - val_loss: 0.7286 - val_acc: 0.6250\n",
            "Epoch 71/100\n",
            "27/27 [==============================] - 13s 459ms/step - loss: 0.6055 - acc: 0.7285 - val_loss: 0.6492 - val_acc: 0.7500\n",
            "Epoch 72/100\n",
            "27/27 [==============================] - 18s 653ms/step - loss: 0.5205 - acc: 0.7778 - val_loss: 0.6439 - val_acc: 0.6875\n",
            "Epoch 73/100\n",
            "27/27 [==============================] - 18s 670ms/step - loss: 0.4689 - acc: 0.7720 - val_loss: 0.6271 - val_acc: 0.7083\n",
            "Epoch 74/100\n",
            "27/27 [==============================] - 18s 656ms/step - loss: 0.5327 - acc: 0.7744 - val_loss: 0.5070 - val_acc: 0.8333\n",
            "Epoch 75/100\n",
            "27/27 [==============================] - 18s 657ms/step - loss: 0.5290 - acc: 0.7986 - val_loss: 0.6646 - val_acc: 0.7292\n",
            "Epoch 76/100\n",
            "27/27 [==============================] - 18s 656ms/step - loss: 0.5619 - acc: 0.7648 - val_loss: 0.7399 - val_acc: 0.7500\n",
            "Epoch 77/100\n",
            "27/27 [==============================] - 18s 662ms/step - loss: 0.4266 - acc: 0.8110 - val_loss: 0.7649 - val_acc: 0.7083\n",
            "Epoch 78/100\n",
            "27/27 [==============================] - 18s 656ms/step - loss: 0.5522 - acc: 0.7488 - val_loss: 0.5825 - val_acc: 0.7083\n",
            "Epoch 79/100\n",
            "27/27 [==============================] - 18s 663ms/step - loss: 0.4236 - acc: 0.7884 - val_loss: 0.8876 - val_acc: 0.7500\n",
            "Epoch 80/100\n",
            "27/27 [==============================] - 18s 672ms/step - loss: 0.4806 - acc: 0.7989 - val_loss: 0.6611 - val_acc: 0.6875\n",
            "Epoch 81/100\n",
            "27/27 [==============================] - 17s 631ms/step - loss: 0.5876 - acc: 0.7538 - val_loss: 0.5563 - val_acc: 0.7917\n",
            "Epoch 82/100\n",
            "27/27 [==============================] - 17s 633ms/step - loss: 0.4501 - acc: 0.8237 - val_loss: 0.7729 - val_acc: 0.7083\n",
            "Epoch 83/100\n",
            "27/27 [==============================] - 17s 642ms/step - loss: 0.4508 - acc: 0.8068 - val_loss: 0.6169 - val_acc: 0.7917\n",
            "Epoch 84/100\n",
            "27/27 [==============================] - 17s 645ms/step - loss: 0.4791 - acc: 0.8061 - val_loss: 0.4517 - val_acc: 0.7708\n",
            "Epoch 85/100\n",
            "27/27 [==============================] - 17s 620ms/step - loss: 0.5523 - acc: 0.7566 - val_loss: 0.7037 - val_acc: 0.7083\n",
            "Epoch 86/100\n",
            "27/27 [==============================] - 17s 633ms/step - loss: 0.5422 - acc: 0.7866 - val_loss: 0.4863 - val_acc: 0.7500\n",
            "Epoch 87/100\n",
            "27/27 [==============================] - 17s 628ms/step - loss: 0.6992 - acc: 0.8100 - val_loss: 0.5372 - val_acc: 0.6875\n",
            "Epoch 88/100\n",
            "27/27 [==============================] - 18s 680ms/step - loss: 0.5421 - acc: 0.7473 - val_loss: 0.9470 - val_acc: 0.6458\n",
            "Epoch 89/100\n",
            "27/27 [==============================] - 17s 624ms/step - loss: 0.5329 - acc: 0.7797 - val_loss: 0.5515 - val_acc: 0.6667\n",
            "Epoch 90/100\n",
            "27/27 [==============================] - 17s 635ms/step - loss: 0.4594 - acc: 0.8076 - val_loss: 0.5927 - val_acc: 0.6875\n",
            "Epoch 91/100\n",
            "27/27 [==============================] - 17s 629ms/step - loss: 0.5164 - acc: 0.8198 - val_loss: 0.6016 - val_acc: 0.7708\n",
            "Epoch 92/100\n",
            "27/27 [==============================] - 18s 658ms/step - loss: 0.4633 - acc: 0.8018 - val_loss: 0.6218 - val_acc: 0.7292\n",
            "Epoch 93/100\n",
            "27/27 [==============================] - 17s 641ms/step - loss: 0.3529 - acc: 0.8596 - val_loss: 0.7698 - val_acc: 0.7292\n",
            "Epoch 94/100\n",
            "27/27 [==============================] - 17s 636ms/step - loss: 0.6671 - acc: 0.7228 - val_loss: 0.6634 - val_acc: 0.6875\n",
            "Epoch 95/100\n",
            "27/27 [==============================] - 18s 658ms/step - loss: 0.5657 - acc: 0.7655 - val_loss: 0.5495 - val_acc: 0.7500\n",
            "Epoch 96/100\n",
            "27/27 [==============================] - 17s 645ms/step - loss: 0.5240 - acc: 0.7852 - val_loss: 0.6528 - val_acc: 0.6875\n",
            "Epoch 97/100\n",
            "27/27 [==============================] - 17s 637ms/step - loss: 0.3751 - acc: 0.8202 - val_loss: 0.6523 - val_acc: 0.7292\n",
            "Epoch 98/100\n",
            "27/27 [==============================] - 18s 637ms/step - loss: 0.6194 - acc: 0.7432 - val_loss: 0.6509 - val_acc: 0.7292\n",
            "Epoch 99/100\n",
            "27/27 [==============================] - 17s 612ms/step - loss: 0.4360 - acc: 0.8111 - val_loss: 1.1032 - val_acc: 0.6458\n",
            "Epoch 100/100\n",
            "27/27 [==============================] - 17s 644ms/step - loss: 0.5366 - acc: 0.7495 - val_loss: 0.5136 - val_acc: 0.7917\n"
          ]
        }
      ]
    },
    {
      "cell_type": "markdown",
      "metadata": {
        "nbpresent": {
          "id": "66140980-2aa4-457f-b1df-74c10c234cc2"
        },
        "id": "mLznn8Y7dwhX"
      },
      "source": [
        "#### [5 points] Plot Accuracy and Loss During Training"
      ]
    },
    {
      "cell_type": "code",
      "metadata": {
        "nbpresent": {
          "id": "ff342098-784a-4e20-ac34-b74ca8ebe839"
        },
        "id": "41S23B3adwhY",
        "outputId": "61a440a5-51f9-4005-aad1-0d77f7c18ddf"
      },
      "source": [
        "import matplotlib.pyplot as plt\n",
        "\n",
        "\n",
        "plt.rcParams['figure.figsize'] = [12, 5]\n",
        "fig, (ax1, ax2) = plt.subplots(1, 2)\n",
        "\n",
        "\n",
        "ax1.plot(history.history['acc'], label = 'Train_acc')\n",
        "ax1.plot(history.history['val_acc'], label = 'Test_acc')\n",
        "ax1.set_title(\"Accuracy over 100 Epochs\")\n",
        "ax1.legend(['Train_acc','Test_acc'])\n",
        "ax1.grid()\n",
        "ax1.set_yticks([0.45, 0.5,0.55,0.6,0.65,0.7,0.75,0.8])\n",
        "ax1.set_ylim([0.4,0.85])\n",
        "\n",
        "ax2.plot(history.history['loss'], label = 'Train_loss')\n",
        "ax2.plot(history.history['val_loss'], label = 'Test_loss')\n",
        "ax2.set_title(\"Loss over 100 Epochs\")\n",
        "ax2.legend(['Train_loss','Test_loss'])\n",
        "ax2.set_ylim([0,3])\n",
        "ax2.grid()\n",
        "\n",
        "\n",
        "plt.show()"
      ],
      "execution_count": null,
      "outputs": [
        {
          "data": {
            "image/png": "[encoded data removed]",
            "text/plain": [
              "<Figure size 864x360 with 2 Axes>"
            ]
          },
          "metadata": {
            "needs_background": "light"
          },
          "output_type": "display_data"
        }
      ]
    },
    {
      "cell_type": "markdown",
      "metadata": {
        "nbpresent": {
          "id": "66140980-2aa4-457f-b1df-74c10c234cc2"
        },
        "id": "rYR_v-K8dwhY"
      },
      "source": [
        "#### Testing Model"
      ]
    },
    {
      "cell_type": "code",
      "metadata": {
        "id": "u4U_xbBAdwhZ",
        "outputId": "a8ef2935-ab6b-4304-e4d8-5e93f497c301"
      },
      "source": [
        "test_datagen = ImageDataGenerator(rescale=1. / 255)\n",
        "\n",
        "eval_generator = test_datagen.flow_from_directory(TEST_DIR,target_size=IMAGE_SIZE,\n",
        "                                                  batch_size=1,shuffle=True,seed=42,class_mode=\"categorical\")\n",
        "eval_generator.reset()\n",
        "print(len(eval_generator))\n",
        "x = model.evaluate_generator(eval_generator,steps = np.ceil(len(eval_generator)),\n",
        "                           use_multiprocessing = False,verbose = 1,workers=1)\n",
        "print('Test loss:' , x[0])\n",
        "print('Test accuracy:',x[1])"
      ],
      "execution_count": null,
      "outputs": [
        {
          "name": "stdout",
          "output_type": "stream",
          "text": [
            "Found 36 images belonging to 4 classes.\n",
            "36\n",
            "36/36 [==============================] - 2s 55ms/step - loss: 0.8847 - acc: 0.5556\n",
            "Test loss: 0.8847371935844421\n",
            "Test accuracy: 0.5555555820465088\n"
          ]
        }
      ]
    },
    {
      "cell_type": "markdown",
      "metadata": {
        "nbpresent": {
          "id": "66140980-2aa4-457f-b1df-74c10c234cc2"
        },
        "id": "R6NipOlUdwha"
      },
      "source": [
        "## [10 points] TSNE Plot\n",
        "t-Distributed Stochastic Neighbor Embedding (t-SNE) is a widely used technique for dimensionality reduction that is particularly well suited for the visualization of high-dimensional datasets. After training is complete, extract features from a specific deep layer of your choice, use t-SNE to reduce the dimensionality of your extracted features to 2 dimensions and plot the resulting 2D features."
      ]
    },
    {
      "cell_type": "code",
      "metadata": {
        "id": "WGDEQIhmdwhb",
        "outputId": "c7d927a7-0c5a-4e4c-a19b-51f32c02d6d4"
      },
      "source": [
        "from sklearn.manifold import TSNE\n",
        "import seaborn as sns\n",
        "\n",
        "intermediate_layer_model = tf.keras.models.Model(inputs=model.input,\n",
        "                                        outputs=model.get_layer('dense_feature').output)\n",
        "\n",
        "tsne_eval_generator = test_datagen.flow_from_directory(DATASET_PATH,target_size=IMAGE_SIZE,\n",
        "                                                  batch_size=1,shuffle=False,seed=42,class_mode=\"categorical\")\n",
        "\n",
        "\n",
        "plt.rcParams['figure.figsize'] = [7, 5]\n",
        "\n",
        "intermediate_output = intermediate_layer_model.predict(tsne_eval_generator)\n",
        "tsne = TSNE(n_components=2)\n",
        "results = tsne.fit_transform(intermediate_output)\n",
        "h = tsne_eval_generator.labels\n",
        "sns.scatterplot(x = results[:,0], y = results[:,1], legend = 'full', hue= h, palette=[\"blue\", \"yellow\",\"red\",\"green\"])\n",
        "\n",
        "L=plt.legend()\n",
        "L.get_texts()[0].set_text('COVID-19')\n",
        "L.get_texts()[1].set_text('Normal')\n",
        "L.get_texts()[2].set_text('Pneumonia_bac')\n",
        "L.get_texts()[3].set_text('Pneumonia_vir')"
      ],
      "execution_count": null,
      "outputs": [
        {
          "name": "stdout",
          "output_type": "stream",
          "text": [
            "Found 270 images belonging to 4 classes.\n"
          ]
        },
        {
          "data": {
            "image/png": "[encoded data removed]",
            "text/plain": [
              "<Figure size 504x360 with 1 Axes>"
            ]
          },
          "metadata": {
            "needs_background": "light"
          },
          "output_type": "display_data"
        }
      ]
    },
    {
      "cell_type": "markdown",
      "metadata": {
        "id": "Q3J-ZQuwdwhc"
      },
      "source": [
        "<!-- ## Task 2: COVID-19 vs Normal vs Tertiary Pneumonia (Bacterial and Viral) -->"
      ]
    },
    {
      "cell_type": "markdown",
      "metadata": {
        "nbpresent": {
          "id": "66140980-2aa4-457f-b1df-74c10c234cc2"
        },
        "id": "AxBfBKoYdwhc"
      },
      "source": [
        "<!-- #### Renew Training Batch and Validation Batch -->"
      ]
    },
    {
      "cell_type": "markdown",
      "metadata": {
        "nbpresent": {
          "id": "66140980-2aa4-457f-b1df-74c10c234cc2"
        },
        "id": "oj3oK8Nrdwhd"
      },
      "source": [
        "<!-- #### Renew Model -->"
      ]
    }
  ]
}