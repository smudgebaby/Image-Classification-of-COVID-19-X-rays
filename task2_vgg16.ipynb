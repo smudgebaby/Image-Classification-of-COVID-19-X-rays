{
  "nbformat": 4,
  "nbformat_minor": 0,
  "metadata": {
    "kernelspec": {
      "display_name": "Python 3",
      "language": "python",
      "name": "python3"
    },
    "language_info": {
      "codemirror_mode": {
        "name": "ipython",
        "version": 3
      },
      "file_extension": ".py",
      "mimetype": "text/x-python",
      "name": "python",
      "nbconvert_exporter": "python",
      "pygments_lexer": "ipython3",
      "version": "3.8.5"
    },
    "latex_envs": {
      "LaTeX_envs_menu_present": true,
      "autoclose": false,
      "autocomplete": true,
      "bibliofile": "biblio.bib",
      "cite_by": "apalike",
      "current_citInitial": 1,
      "eqLabelWithNumbers": true,
      "eqNumInitial": 1,
      "hotkeys": {
        "equation": "Ctrl-E",
        "itemize": "Ctrl-I"
      },
      "labels_anchors": false,
      "latex_user_defs": false,
      "report_style_numbering": false,
      "user_envs_cfg": false
    },
    "toc": {
      "base_numbering": 1,
      "nav_menu": {},
      "number_sections": true,
      "sideBar": true,
      "skip_h1_title": false,
      "title_cell": "Table of Contents",
      "title_sidebar": "Contents",
      "toc_cell": false,
      "toc_position": {},
      "toc_section_display": true,
      "toc_window_display": false
    },
    "varInspector": {
      "cols": {
        "lenName": 16,
        "lenType": 16,
        "lenVar": 40
      },
      "kernels_config": {
        "python": {
          "delete_cmd_postfix": "",
          "delete_cmd_prefix": "del ",
          "library": "var_list.py",
          "varRefreshCmd": "print(var_dic_list())"
        },
        "r": {
          "delete_cmd_postfix": ") ",
          "delete_cmd_prefix": "rm(",
          "library": "var_list.r",
          "varRefreshCmd": "cat(var_dic_list()) "
        }
      },
      "types_to_exclude": [
        "module",
        "function",
        "builtin_function_or_method",
        "instance",
        "_Feature"
      ],
      "window_display": false
    },
    "colab": {
      "name": "task2_vgg16.ipynb",
      "provenance": [],
      "collapsed_sections": []
    }
  },
  "cells": [
    {
      "cell_type": "markdown",
      "metadata": {
        "nbpresent": {
          "id": "1d234e3f-af8b-4757-83f3-241b04b7a511"
        },
        "id": "RIM_mD2_d7u2"
      },
      "source": [
        "# Class Challenge: Image Classification of COVID-19 X-rays\n",
        "# Task 2 [Total points: 30]"
      ]
    },
    {
      "cell_type": "markdown",
      "metadata": {
        "nbpresent": {
          "id": "b07b9992-b592-4871-9f9a-3b0ae5fa8b5f"
        },
        "id": "FOIheYXmd7vF"
      },
      "source": [
        "## Setup\n",
        "\n",
        "* This assignment involves the following packages: 'matplotlib', 'numpy', and 'sklearn'. \n",
        "\n",
        "* If you are using conda, use the following commands to install the above packages:<br>\n",
        "```shell\n",
        "conda install matplotlib\n",
        "conda install numpy\n",
        "conda install -c anaconda scikit-learn\n",
        "```\n",
        "\n",
        "* If you are using pip, use use the following commands to install the above packages: <br> \n",
        "```shell\n",
        "pip install matplotlib\n",
        "pip install numpy\n",
        "pip install sklearn\n",
        "```"
      ]
    },
    {
      "cell_type": "markdown",
      "metadata": {
        "nbpresent": {
          "id": "5516f610-f00c-43c3-bf19-4cf7ab9c089f"
        },
        "id": "xiSjy2vzd7vG"
      },
      "source": [
        "## Data\n",
        "\n",
        "Please download the data using the following link: [COVID-19](https://drive.google.com/file/d/1Y88tgqpQ1Pjko_7rntcPowOJs_QNOrJ-/view). \n",
        "\n",
        "* After downloading 'Covid_Data_GradientCrescent.zip', unzip the file and you should see the following data structure:\n",
        "\n",
        "\n",
        "|--all<br>\n",
        "|--------train<br>\n",
        "|--------test<br>\n",
        "|--two<br>\n",
        "|--------train<br>\n",
        "|--------test<br>\n",
        "\n",
        "\n",
        "* Put the 'all' folder, the 'two' folder and this python notebook in the **same directory** so that the following code can correctly locate the data.  \n",
        "\n"
      ]
    },
    {
      "cell_type": "markdown",
      "metadata": {
        "nbpresent": {
          "id": "66140980-2aa4-457f-b1df-74c10c234cc2"
        },
        "id": "cgCX1Wxkd7vH"
      },
      "source": [
        "## [20 points] Multi-class Classification"
      ]
    },
    {
      "cell_type": "code",
      "metadata": {
        "nbpresent": {
          "id": "5e05f980-3d14-4367-b3d1-664249145b13"
        },
        "scrolled": true,
        "id": "DguLsXTHd7vI",
        "outputId": "606dad1e-b20d-4f2d-dee5-3eeff82110b7"
      },
      "source": [
        "import os\n",
        "\n",
        "import tensorflow as tf\n",
        "import numpy as np\n",
        "import matplotlib.pyplot as plt\n",
        "from tensorflow.keras.preprocessing.image import ImageDataGenerator\n",
        "\n",
        "os.environ['OMP_NUM_THREADS'] = '1'\n",
        "os.environ['CUDA_VISIBLE_DEVICES'] = '-1'\n",
        "tf.__version__"
      ],
      "execution_count": null,
      "outputs": [
        {
          "data": {
            "text/plain": [
              "'2.4.1'"
            ]
          },
          "execution_count": 15,
          "metadata": {},
          "output_type": "execute_result"
        }
      ]
    },
    {
      "cell_type": "markdown",
      "metadata": {
        "nbpresent": {
          "id": "66140980-2aa4-457f-b1df-74c10c234cc2"
        },
        "id": "LFSRzP3Rd7vK"
      },
      "source": [
        "#### Load Image Data"
      ]
    },
    {
      "cell_type": "code",
      "metadata": {
        "nbpresent": {
          "id": "58317664-8da3-4283-b3e5-35721687e7ab"
        },
        "id": "UbrxSo48d7vL"
      },
      "source": [
        "DATA_LIST = os.listdir('all/train')\n",
        "DATASET_PATH  = 'all/train'\n",
        "TEST_DIR =  'all/test'\n",
        "IMAGE_SIZE    = (224, 224)\n",
        "NUM_CLASSES   = len(DATA_LIST)\n",
        "BATCH_SIZE    = 8  \n",
        "NUM_EPOCHS    = 100\n",
        "LEARNING_RATE = 0.0005 "
      ],
      "execution_count": null,
      "outputs": []
    },
    {
      "cell_type": "markdown",
      "metadata": {
        "nbpresent": {
          "id": "66140980-2aa4-457f-b1df-74c10c234cc2"
        },
        "id": "yVYparM4d7vM"
      },
      "source": [
        "#### Generate Training and Validation Batches"
      ]
    },
    {
      "cell_type": "code",
      "metadata": {
        "nbpresent": {
          "id": "71760e29-2b08-4259-93f1-ebe68cd74a6d"
        },
        "id": "hnlVAepod7vN",
        "outputId": "ca14d1ce-498f-4608-9d3c-800080462ea8"
      },
      "source": [
        "train_datagen = ImageDataGenerator(rescale=1./255,rotation_range=50,featurewise_center = True,\n",
        "                                   featurewise_std_normalization = True,width_shift_range=0.2,\n",
        "                                   height_shift_range=0.2,shear_range=0.25,zoom_range=0.1,\n",
        "                                   zca_whitening = True,channel_shift_range = 20,\n",
        "                                   horizontal_flip = True,vertical_flip = True,\n",
        "                                   validation_split = 0.2,fill_mode='constant')\n",
        "\n",
        "\n",
        "train_batches = train_datagen.flow_from_directory(DATASET_PATH,target_size=IMAGE_SIZE,\n",
        "                                                  shuffle=True,batch_size=BATCH_SIZE,\n",
        "                                                  subset = \"training\",seed=42,\n",
        "                                                  class_mode=\"categorical\")\n",
        "\n",
        "valid_batches = train_datagen.flow_from_directory(DATASET_PATH,target_size=IMAGE_SIZE,\n",
        "                                                  shuffle=True,batch_size=BATCH_SIZE,\n",
        "                                                  subset = \"validation\",\n",
        "                                                  seed=42,class_mode=\"categorical\")"
      ],
      "execution_count": null,
      "outputs": [
        {
          "name": "stdout",
          "output_type": "stream",
          "text": [
            "Found 216 images belonging to 4 classes.\n",
            "Found 54 images belonging to 4 classes.\n"
          ]
        }
      ]
    },
    {
      "cell_type": "markdown",
      "metadata": {
        "nbpresent": {
          "id": "66140980-2aa4-457f-b1df-74c10c234cc2"
        },
        "id": "5auh0qp-d7vO"
      },
      "source": [
        "#### [10 points] Build Model\n",
        "Hint: Starting from a pre-trained model typically helps performance on a new task, e.g. starting with weights obtained by training on ImageNet. "
      ]
    },
    {
      "cell_type": "code",
      "metadata": {
        "id": "8PrcbYVJd7vP",
        "outputId": "3067ce66-c1bf-4796-a1c8-94e6636d6ac7"
      },
      "source": [
        "vgg_model = tf.keras.applications.VGG16(\n",
        "    weights = \"imagenet\",\n",
        "    input_shape = (224, 224, 3),\n",
        "    include_top = False\n",
        ")\n",
        "\n",
        "vgg_model.trainable = False\n",
        "\n",
        "model6 = tf.keras.models.Sequential()\n",
        "model6.add(vgg_model)\n",
        "model6.add(tf.keras.layers.AveragePooling2D(pool_size=(3,3)))\n",
        "model6.add(tf.keras.layers.Flatten())\n",
        "model6.add(tf.keras.layers.Dropout(rate = 0.5))\n",
        "model6.add(tf.keras.layers.Dense(256, name = \"dense_feature\"))\n",
        "model6.add(tf.keras.layers.Dense(4, activation='softmax'))\n",
        "model6.summary()"
      ],
      "execution_count": null,
      "outputs": [
        {
          "name": "stdout",
          "output_type": "stream",
          "text": [
            "Model: \"sequential_1\"\n",
            "_________________________________________________________________\n",
            "Layer (type)                 Output Shape              Param #   \n",
            "=================================================================\n",
            "vgg16 (Functional)           (None, 7, 7, 512)         14714688  \n",
            "_________________________________________________________________\n",
            "average_pooling2d_1 (Average (None, 2, 2, 512)         0         \n",
            "_________________________________________________________________\n",
            "flatten_1 (Flatten)          (None, 2048)              0         \n",
            "_________________________________________________________________\n",
            "dropout_1 (Dropout)          (None, 2048)              0         \n",
            "_________________________________________________________________\n",
            "dense_feature (Dense)        (None, 256)               524544    \n",
            "_________________________________________________________________\n",
            "dense_1 (Dense)              (None, 4)                 1028      \n",
            "=================================================================\n",
            "Total params: 15,240,260\n",
            "Trainable params: 525,572\n",
            "Non-trainable params: 14,714,688\n",
            "_________________________________________________________________\n"
          ]
        }
      ]
    },
    {
      "cell_type": "markdown",
      "metadata": {
        "nbpresent": {
          "id": "66140980-2aa4-457f-b1df-74c10c234cc2"
        },
        "id": "G_2ArtWDd7vP"
      },
      "source": [
        "#### [5 points] Train Model"
      ]
    },
    {
      "cell_type": "code",
      "metadata": {
        "scrolled": true,
        "id": "BdVymORDd7vQ",
        "outputId": "e3226f7d-2634-40ff-a174-71d2e013286c"
      },
      "source": [
        "model6.compile(optimizer='adam',\n",
        "                loss=tf.keras.losses.CategoricalCrossentropy(from_logits=True),\n",
        "                metrics=['acc'])\n",
        "\n",
        "#FIT MODEL\n",
        "print(len(train_batches))\n",
        "print(len(valid_batches))\n",
        "\n",
        "STEP_SIZE_TRAIN=train_batches.n//train_batches.batch_size\n",
        "STEP_SIZE_VALID=valid_batches.n//valid_batches.batch_size\n",
        "\n",
        "\n",
        "history = model6.fit(\n",
        "    train_batches, \n",
        "    epochs=NUM_EPOCHS, steps_per_epoch=STEP_SIZE_TRAIN, \n",
        "    batch_size=BATCH_SIZE, \n",
        "    validation_data = valid_batches, validation_steps=STEP_SIZE_VALID\n",
        ")"
      ],
      "execution_count": null,
      "outputs": [
        {
          "name": "stdout",
          "output_type": "stream",
          "text": [
            "27\n",
            "7\n"
          ]
        },
        {
          "name": "stderr",
          "output_type": "stream",
          "text": [
            "D:\\downloads\\anaconda3\\lib\\site-packages\\keras_preprocessing\\image\\image_data_generator.py:720: UserWarning: This ImageDataGenerator specifies `featurewise_center`, but it hasn't been fit on any training data. Fit it first by calling `.fit(numpy_data)`.\n",
            "  warnings.warn('This ImageDataGenerator specifies '\n",
            "D:\\downloads\\anaconda3\\lib\\site-packages\\keras_preprocessing\\image\\image_data_generator.py:739: UserWarning: This ImageDataGenerator specifies `zca_whitening`, but it hasn't been fit on any training data. Fit it first by calling `.fit(numpy_data)`.\n",
            "  warnings.warn('This ImageDataGenerator specifies '\n"
          ]
        },
        {
          "name": "stdout",
          "output_type": "stream",
          "text": [
            "Epoch 1/100\n",
            "27/27 [==============================] - 25s 893ms/step - loss: 0.8419 - acc: 0.6275 - val_loss: 0.6343 - val_acc: 0.7292\n",
            "Epoch 2/100\n",
            "27/27 [==============================] - 24s 886ms/step - loss: 0.8315 - acc: 0.5901 - val_loss: 0.7033 - val_acc: 0.6667\n",
            "Epoch 3/100\n",
            "27/27 [==============================] - 24s 884ms/step - loss: 0.7201 - acc: 0.6891 - val_loss: 0.6162 - val_acc: 0.7083\n",
            "Epoch 4/100\n",
            "27/27 [==============================] - 24s 904ms/step - loss: 0.7294 - acc: 0.6903 - val_loss: 0.7205 - val_acc: 0.6875\n",
            "Epoch 5/100\n",
            "27/27 [==============================] - 24s 883ms/step - loss: 0.6578 - acc: 0.6521 - val_loss: 0.6881 - val_acc: 0.6458\n",
            "Epoch 6/100\n",
            "27/27 [==============================] - 24s 884ms/step - loss: 0.8368 - acc: 0.6195 - val_loss: 0.6399 - val_acc: 0.6667\n",
            "Epoch 7/100\n",
            "27/27 [==============================] - 24s 885ms/step - loss: 0.7708 - acc: 0.6694 - val_loss: 0.7695 - val_acc: 0.6250\n",
            "Epoch 8/100\n",
            "27/27 [==============================] - 24s 896ms/step - loss: 0.8226 - acc: 0.6233 - val_loss: 0.6963 - val_acc: 0.6875\n",
            "Epoch 9/100\n",
            "27/27 [==============================] - 24s 883ms/step - loss: 0.7142 - acc: 0.6678 - val_loss: 0.5795 - val_acc: 0.7917\n",
            "Epoch 10/100\n",
            "27/27 [==============================] - 24s 891ms/step - loss: 0.7610 - acc: 0.6901 - val_loss: 0.6493 - val_acc: 0.7708\n",
            "Epoch 11/100\n",
            "27/27 [==============================] - 24s 884ms/step - loss: 0.7458 - acc: 0.6907 - val_loss: 0.7509 - val_acc: 0.6875\n",
            "Epoch 12/100\n",
            "27/27 [==============================] - 24s 884ms/step - loss: 0.7331 - acc: 0.6856 - val_loss: 0.6931 - val_acc: 0.6667\n",
            "Epoch 13/100\n",
            "27/27 [==============================] - 24s 889ms/step - loss: 0.7395 - acc: 0.6871 - val_loss: 0.6735 - val_acc: 0.6458\n",
            "Epoch 14/100\n",
            "27/27 [==============================] - 24s 885ms/step - loss: 0.9057 - acc: 0.5802 - val_loss: 0.6172 - val_acc: 0.6875\n",
            "Epoch 15/100\n",
            "27/27 [==============================] - 24s 893ms/step - loss: 0.8240 - acc: 0.6699 - val_loss: 0.6956 - val_acc: 0.6875\n",
            "Epoch 16/100\n",
            "27/27 [==============================] - 24s 882ms/step - loss: 0.8589 - acc: 0.6294 - val_loss: 0.6405 - val_acc: 0.6875\n",
            "Epoch 17/100\n",
            "27/27 [==============================] - 24s 891ms/step - loss: 0.7685 - acc: 0.6539 - val_loss: 0.8279 - val_acc: 0.5208\n",
            "Epoch 18/100\n",
            "27/27 [==============================] - 24s 893ms/step - loss: 0.8051 - acc: 0.6592 - val_loss: 0.6156 - val_acc: 0.7292\n",
            "Epoch 19/100\n",
            "27/27 [==============================] - 24s 893ms/step - loss: 0.8466 - acc: 0.6167 - val_loss: 0.8238 - val_acc: 0.5625\n",
            "Epoch 20/100\n",
            "27/27 [==============================] - 24s 899ms/step - loss: 0.7716 - acc: 0.6726 - val_loss: 0.6417 - val_acc: 0.6667\n",
            "Epoch 21/100\n",
            "27/27 [==============================] - 24s 885ms/step - loss: 0.7107 - acc: 0.7169 - val_loss: 0.6277 - val_acc: 0.7500\n",
            "Epoch 22/100\n",
            "27/27 [==============================] - 24s 888ms/step - loss: 0.8729 - acc: 0.5653 - val_loss: 0.6392 - val_acc: 0.7500\n",
            "Epoch 23/100\n",
            "27/27 [==============================] - 24s 899ms/step - loss: 0.8168 - acc: 0.7111 - val_loss: 0.6442 - val_acc: 0.6458\n",
            "Epoch 24/100\n",
            "27/27 [==============================] - 24s 896ms/step - loss: 0.6771 - acc: 0.6994 - val_loss: 0.7905 - val_acc: 0.5833\n",
            "Epoch 25/100\n",
            "27/27 [==============================] - 24s 895ms/step - loss: 0.7639 - acc: 0.6528 - val_loss: 0.6787 - val_acc: 0.7083\n",
            "Epoch 26/100\n",
            "27/27 [==============================] - 24s 897ms/step - loss: 0.6982 - acc: 0.7153 - val_loss: 0.6705 - val_acc: 0.6667\n",
            "Epoch 27/100\n",
            "27/27 [==============================] - 24s 892ms/step - loss: 0.6888 - acc: 0.7413 - val_loss: 0.7203 - val_acc: 0.6875\n",
            "Epoch 28/100\n",
            "27/27 [==============================] - 24s 889ms/step - loss: 0.7151 - acc: 0.7017 - val_loss: 0.6129 - val_acc: 0.6458\n",
            "Epoch 29/100\n",
            "27/27 [==============================] - 24s 890ms/step - loss: 0.5977 - acc: 0.7145 - val_loss: 0.7244 - val_acc: 0.6042\n",
            "Epoch 30/100\n",
            "27/27 [==============================] - 24s 887ms/step - loss: 0.8973 - acc: 0.5716 - val_loss: 0.7661 - val_acc: 0.6042\n",
            "Epoch 31/100\n",
            "27/27 [==============================] - 24s 892ms/step - loss: 0.7369 - acc: 0.7121 - val_loss: 0.7215 - val_acc: 0.7083\n",
            "Epoch 32/100\n",
            "27/27 [==============================] - 24s 896ms/step - loss: 0.8419 - acc: 0.6440 - val_loss: 0.6419 - val_acc: 0.7083\n",
            "Epoch 33/100\n",
            "27/27 [==============================] - 24s 906ms/step - loss: 0.6595 - acc: 0.7362 - val_loss: 0.7299 - val_acc: 0.6875\n",
            "Epoch 34/100\n",
            "27/27 [==============================] - 24s 900ms/step - loss: 0.8072 - acc: 0.6058 - val_loss: 0.9800 - val_acc: 0.4792\n",
            "Epoch 35/100\n",
            "27/27 [==============================] - 24s 889ms/step - loss: 0.7779 - acc: 0.6751 - val_loss: 0.7230 - val_acc: 0.6458\n",
            "Epoch 36/100\n",
            "27/27 [==============================] - 24s 886ms/step - loss: 0.7211 - acc: 0.6263 - val_loss: 0.6367 - val_acc: 0.7292\n",
            "Epoch 37/100\n",
            "27/27 [==============================] - 24s 890ms/step - loss: 0.7572 - acc: 0.6422 - val_loss: 0.6952 - val_acc: 0.6667\n",
            "Epoch 38/100\n",
            "27/27 [==============================] - 24s 894ms/step - loss: 0.7315 - acc: 0.6710 - val_loss: 0.6940 - val_acc: 0.6875\n",
            "Epoch 39/100\n",
            "27/27 [==============================] - 24s 909ms/step - loss: 0.8004 - acc: 0.6549 - val_loss: 0.7731 - val_acc: 0.7083\n",
            "Epoch 40/100\n",
            "27/27 [==============================] - 24s 894ms/step - loss: 0.6475 - acc: 0.6930 - val_loss: 0.9432 - val_acc: 0.6042\n",
            "Epoch 41/100\n",
            "27/27 [==============================] - 24s 900ms/step - loss: 0.6875 - acc: 0.7050 - val_loss: 0.6609 - val_acc: 0.7083\n",
            "Epoch 42/100\n",
            "27/27 [==============================] - 24s 896ms/step - loss: 0.7533 - acc: 0.6934 - val_loss: 0.6819 - val_acc: 0.6250\n",
            "Epoch 43/100\n",
            "27/27 [==============================] - 24s 895ms/step - loss: 0.7168 - acc: 0.7153 - val_loss: 0.7355 - val_acc: 0.6250\n",
            "Epoch 44/100\n",
            "27/27 [==============================] - 24s 894ms/step - loss: 0.7387 - acc: 0.6658 - val_loss: 0.7431 - val_acc: 0.6042\n",
            "Epoch 45/100\n",
            "27/27 [==============================] - 24s 887ms/step - loss: 0.6254 - acc: 0.7534 - val_loss: 0.6896 - val_acc: 0.6458\n",
            "Epoch 46/100\n",
            "27/27 [==============================] - 24s 893ms/step - loss: 0.7138 - acc: 0.7611 - val_loss: 0.6983 - val_acc: 0.7083\n",
            "Epoch 47/100\n",
            "27/27 [==============================] - 24s 894ms/step - loss: 0.7465 - acc: 0.6793 - val_loss: 0.6639 - val_acc: 0.7292\n",
            "Epoch 48/100\n",
            "27/27 [==============================] - 24s 892ms/step - loss: 0.7294 - acc: 0.6507 - val_loss: 0.6644 - val_acc: 0.6667\n",
            "Epoch 49/100\n",
            "27/27 [==============================] - 24s 887ms/step - loss: 0.7769 - acc: 0.6448 - val_loss: 0.7437 - val_acc: 0.6875\n",
            "Epoch 50/100\n",
            "27/27 [==============================] - 24s 888ms/step - loss: 0.8308 - acc: 0.6518 - val_loss: 0.7541 - val_acc: 0.6042\n",
            "Epoch 51/100\n",
            "27/27 [==============================] - 24s 898ms/step - loss: 0.7410 - acc: 0.6784 - val_loss: 0.5126 - val_acc: 0.7708\n",
            "Epoch 52/100\n",
            "27/27 [==============================] - 24s 894ms/step - loss: 0.6741 - acc: 0.7019 - val_loss: 0.8472 - val_acc: 0.6042\n",
            "Epoch 53/100\n",
            "27/27 [==============================] - 24s 896ms/step - loss: 0.8460 - acc: 0.6263 - val_loss: 0.6900 - val_acc: 0.6458\n",
            "Epoch 54/100\n",
            "27/27 [==============================] - 24s 892ms/step - loss: 0.7382 - acc: 0.6836 - val_loss: 0.8077 - val_acc: 0.6250\n",
            "Epoch 55/100\n",
            "27/27 [==============================] - 24s 891ms/step - loss: 0.6268 - acc: 0.7096 - val_loss: 0.6914 - val_acc: 0.7083\n",
            "Epoch 56/100\n",
            "27/27 [==============================] - 24s 892ms/step - loss: 0.7027 - acc: 0.6951 - val_loss: 0.7668 - val_acc: 0.5833\n",
            "Epoch 57/100\n",
            "27/27 [==============================] - 24s 891ms/step - loss: 0.6765 - acc: 0.7232 - val_loss: 0.6990 - val_acc: 0.6458\n",
            "Epoch 58/100\n",
            "27/27 [==============================] - 24s 897ms/step - loss: 0.7227 - acc: 0.7002 - val_loss: 0.6889 - val_acc: 0.6667\n",
            "Epoch 59/100\n",
            "27/27 [==============================] - 24s 891ms/step - loss: 0.6582 - acc: 0.7179 - val_loss: 0.7704 - val_acc: 0.5833\n",
            "Epoch 60/100\n",
            "27/27 [==============================] - 24s 882ms/step - loss: 0.8044 - acc: 0.6872 - val_loss: 0.7953 - val_acc: 0.5833\n",
            "Epoch 61/100\n",
            "27/27 [==============================] - 24s 890ms/step - loss: 0.7116 - acc: 0.7058 - val_loss: 0.6783 - val_acc: 0.7708\n",
            "Epoch 62/100\n",
            "27/27 [==============================] - 24s 899ms/step - loss: 0.7237 - acc: 0.7301 - val_loss: 0.6888 - val_acc: 0.6667\n",
            "Epoch 63/100\n",
            "27/27 [==============================] - 24s 891ms/step - loss: 0.6623 - acc: 0.7704 - val_loss: 0.6058 - val_acc: 0.7292\n",
            "Epoch 64/100\n",
            "27/27 [==============================] - 24s 886ms/step - loss: 0.6242 - acc: 0.6990 - val_loss: 0.6818 - val_acc: 0.6667\n",
            "Epoch 65/100\n",
            "27/27 [==============================] - 24s 889ms/step - loss: 0.6935 - acc: 0.7172 - val_loss: 0.8755 - val_acc: 0.6250\n",
            "Epoch 66/100\n",
            "27/27 [==============================] - 24s 885ms/step - loss: 0.7034 - acc: 0.6918 - val_loss: 0.7286 - val_acc: 0.6458\n",
            "Epoch 67/100\n",
            "27/27 [==============================] - 24s 885ms/step - loss: 0.7740 - acc: 0.6878 - val_loss: 0.6160 - val_acc: 0.7500\n",
            "Epoch 68/100\n",
            "27/27 [==============================] - 24s 879ms/step - loss: 0.6955 - acc: 0.6630 - val_loss: 0.6424 - val_acc: 0.7292\n",
            "Epoch 69/100\n",
            "27/27 [==============================] - 24s 894ms/step - loss: 0.7222 - acc: 0.6820 - val_loss: 0.8036 - val_acc: 0.5833\n",
            "Epoch 70/100\n",
            "27/27 [==============================] - 24s 879ms/step - loss: 0.7688 - acc: 0.6819 - val_loss: 0.6289 - val_acc: 0.7500\n",
            "Epoch 71/100\n",
            "27/27 [==============================] - 24s 903ms/step - loss: 0.7886 - acc: 0.6488 - val_loss: 0.6324 - val_acc: 0.7083\n",
            "Epoch 72/100\n",
            "27/27 [==============================] - 24s 887ms/step - loss: 0.8355 - acc: 0.6151 - val_loss: 0.6467 - val_acc: 0.7083\n",
            "Epoch 73/100\n",
            "27/27 [==============================] - 24s 887ms/step - loss: 0.7172 - acc: 0.6752 - val_loss: 0.7628 - val_acc: 0.6042\n",
            "Epoch 74/100\n",
            "27/27 [==============================] - 24s 897ms/step - loss: 0.8222 - acc: 0.6674 - val_loss: 0.6299 - val_acc: 0.6042\n",
            "Epoch 75/100\n",
            "27/27 [==============================] - 24s 904ms/step - loss: 0.6728 - acc: 0.7331 - val_loss: 0.7998 - val_acc: 0.5625\n",
            "Epoch 76/100\n",
            "27/27 [==============================] - 24s 887ms/step - loss: 0.8201 - acc: 0.7113 - val_loss: 0.7102 - val_acc: 0.6667\n",
            "Epoch 77/100\n",
            "27/27 [==============================] - 24s 880ms/step - loss: 0.7638 - acc: 0.6677 - val_loss: 0.5557 - val_acc: 0.7292\n",
            "Epoch 78/100\n",
            "27/27 [==============================] - 24s 886ms/step - loss: 0.7576 - acc: 0.7023 - val_loss: 0.6808 - val_acc: 0.6458\n",
            "Epoch 79/100\n",
            "27/27 [==============================] - 24s 883ms/step - loss: 0.8642 - acc: 0.6704 - val_loss: 0.7826 - val_acc: 0.5833\n",
            "Epoch 80/100\n",
            "27/27 [==============================] - 24s 898ms/step - loss: 0.6294 - acc: 0.6860 - val_loss: 0.6781 - val_acc: 0.6458\n",
            "Epoch 81/100\n",
            "27/27 [==============================] - 24s 887ms/step - loss: 0.8092 - acc: 0.6765 - val_loss: 0.9560 - val_acc: 0.6458\n",
            "Epoch 82/100\n",
            "27/27 [==============================] - 24s 894ms/step - loss: 0.7922 - acc: 0.6379 - val_loss: 0.6930 - val_acc: 0.6667\n",
            "Epoch 83/100\n",
            "27/27 [==============================] - 24s 887ms/step - loss: 0.7283 - acc: 0.6788 - val_loss: 0.7118 - val_acc: 0.6667\n",
            "Epoch 84/100\n",
            "27/27 [==============================] - 24s 884ms/step - loss: 0.8359 - acc: 0.6436 - val_loss: 0.7258 - val_acc: 0.6458\n",
            "Epoch 85/100\n",
            "27/27 [==============================] - 24s 890ms/step - loss: 0.6542 - acc: 0.7220 - val_loss: 0.6920 - val_acc: 0.6250\n",
            "Epoch 86/100\n",
            "27/27 [==============================] - 24s 893ms/step - loss: 0.6985 - acc: 0.6964 - val_loss: 0.6510 - val_acc: 0.6875\n",
            "Epoch 87/100\n",
            "27/27 [==============================] - 24s 879ms/step - loss: 0.6349 - acc: 0.7227 - val_loss: 0.6698 - val_acc: 0.6667\n",
            "Epoch 88/100\n",
            "27/27 [==============================] - 24s 881ms/step - loss: 0.7501 - acc: 0.6605 - val_loss: 0.7017 - val_acc: 0.6875\n",
            "Epoch 89/100\n",
            "27/27 [==============================] - 24s 880ms/step - loss: 0.7049 - acc: 0.6725 - val_loss: 0.7317 - val_acc: 0.6875\n",
            "Epoch 90/100\n",
            "27/27 [==============================] - 24s 880ms/step - loss: 0.8217 - acc: 0.6626 - val_loss: 0.7210 - val_acc: 0.7083\n",
            "Epoch 91/100\n",
            "27/27 [==============================] - 24s 884ms/step - loss: 0.7683 - acc: 0.6941 - val_loss: 0.6600 - val_acc: 0.6250\n",
            "Epoch 92/100\n",
            "27/27 [==============================] - 24s 892ms/step - loss: 0.7044 - acc: 0.6719 - val_loss: 0.7793 - val_acc: 0.5833\n",
            "Epoch 93/100\n",
            "27/27 [==============================] - 24s 892ms/step - loss: 0.7508 - acc: 0.6310 - val_loss: 0.6521 - val_acc: 0.6667\n",
            "Epoch 94/100\n",
            "27/27 [==============================] - 24s 890ms/step - loss: 0.6218 - acc: 0.6899 - val_loss: 0.6776 - val_acc: 0.7083\n",
            "Epoch 95/100\n",
            "27/27 [==============================] - 24s 885ms/step - loss: 0.8313 - acc: 0.6356 - val_loss: 0.6887 - val_acc: 0.6458\n",
            "Epoch 96/100\n",
            "27/27 [==============================] - 24s 881ms/step - loss: 0.5924 - acc: 0.7433 - val_loss: 0.7365 - val_acc: 0.5833\n",
            "Epoch 97/100\n",
            "27/27 [==============================] - 24s 898ms/step - loss: 0.9186 - acc: 0.6458 - val_loss: 0.6239 - val_acc: 0.6875\n",
            "Epoch 98/100\n",
            "27/27 [==============================] - 24s 898ms/step - loss: 0.6746 - acc: 0.7332 - val_loss: 0.6965 - val_acc: 0.6875\n",
            "Epoch 99/100\n",
            "27/27 [==============================] - 24s 897ms/step - loss: 0.6423 - acc: 0.7498 - val_loss: 0.6115 - val_acc: 0.6667\n",
            "Epoch 100/100\n",
            "27/27 [==============================] - 24s 899ms/step - loss: 0.5739 - acc: 0.7325 - val_loss: 0.7202 - val_acc: 0.6458\n"
          ]
        }
      ]
    },
    {
      "cell_type": "markdown",
      "metadata": {
        "nbpresent": {
          "id": "66140980-2aa4-457f-b1df-74c10c234cc2"
        },
        "id": "evQrvXoVd7vQ"
      },
      "source": [
        "#### [5 points] Plot Accuracy and Loss During Training"
      ]
    },
    {
      "cell_type": "code",
      "metadata": {
        "nbpresent": {
          "id": "ff342098-784a-4e20-ac34-b74ca8ebe839"
        },
        "scrolled": true,
        "id": "Yr4n_TYqd7vR",
        "outputId": "a5465018-a83d-4338-d402-b06c0ed32432"
      },
      "source": [
        "import matplotlib.pyplot as plt\n",
        "\n",
        "plt.rcParams['figure.figsize'] = [12, 5]\n",
        "fig, (ax1, ax2) = plt.subplots(1, 2)\n",
        "\n",
        "\n",
        "ax1.plot(history.history['acc'], label = 'Train_acc')\n",
        "ax1.plot(history.history['val_acc'], label = 'Test_acc')\n",
        "ax1.set_title(\"Accuracy over 100 Epochs\")\n",
        "ax1.legend(['Train_acc','Test_acc'])\n",
        "ax1.grid()\n",
        "ax1.set_yticks([0.45, 0.5,0.55,0.6,0.65,0.7,0.75,0.8])\n",
        "ax1.set_ylim([0.4,0.85])\n",
        "\n",
        "ax2.plot(history.history['loss'], label = 'Train_loss')\n",
        "ax2.plot(history.history['val_loss'], label = 'Test_loss')\n",
        "ax2.set_title(\"Loss over 100 Epochs\")\n",
        "ax2.legend(['Train_loss','Test_loss'])\n",
        "ax2.set_ylim([0,1.5])\n",
        "ax2.grid()\n",
        "\n",
        "\n",
        "plt.show()"
      ],
      "execution_count": null,
      "outputs": [
        {
          "data": {
            "image/png": "[encoded data removed]",
            "text/plain": [
              "<Figure size 864x360 with 2 Axes>"
            ]
          },
          "metadata": {
            "needs_background": "light"
          },
          "output_type": "display_data"
        }
      ]
    },
    {
      "cell_type": "markdown",
      "metadata": {
        "nbpresent": {
          "id": "66140980-2aa4-457f-b1df-74c10c234cc2"
        },
        "id": "0_RRlw3Bd7vR"
      },
      "source": [
        "#### Testing Model"
      ]
    },
    {
      "cell_type": "code",
      "metadata": {
        "id": "IAo0Kcknd7vS"
      },
      "source": [
        "test_datagen = ImageDataGenerator(rescale=1. / 255)\n",
        "\n",
        "eval_generator = test_datagen.flow_from_directory(TEST_DIR,target_size=IMAGE_SIZE,\n",
        "                                                  batch_size=1,shuffle=True,seed=42,class_mode=\"categorical\")\n",
        "eval_generator.reset()\n",
        "print(len(eval_generator))"
      ],
      "execution_count": null,
      "outputs": []
    },
    {
      "cell_type": "code",
      "metadata": {
        "id": "a25_yRmod7vS",
        "outputId": "da3268d1-ee91-45a8-d88b-eea51b6ca438"
      },
      "source": [
        ""
      ],
      "execution_count": null,
      "outputs": [
        {
          "name": "stdout",
          "output_type": "stream",
          "text": [
            "Found 36 images belonging to 4 classes.\n",
            "36\n"
          ]
        },
        {
          "name": "stderr",
          "output_type": "stream",
          "text": [
            "D:\\downloads\\anaconda3\\lib\\site-packages\\tensorflow\\python\\keras\\engine\\training.py:1877: UserWarning: `Model.evaluate_generator` is deprecated and will be removed in a future version. Please use `Model.evaluate`, which supports generators.\n",
            "  warnings.warn('`Model.evaluate_generator` is deprecated and '\n"
          ]
        },
        {
          "name": "stdout",
          "output_type": "stream",
          "text": [
            "36/36 [==============================] - 4s 94ms/step - loss: 0.8552 - acc: 0.5833\n",
            "Test loss: 0.8551800847053528\n",
            "Test accuracy: 0.5833333134651184\n"
          ]
        }
      ]
    },
    {
      "cell_type": "code",
      "metadata": {
        "id": "ZK4ZOMr4d7vT",
        "outputId": "3000757a-cbe3-4594-caf0-70677f36af88"
      },
      "source": [
        "x6 = model6.evaluate_generator(eval_generator,steps = np.ceil(len(eval_generator)),\n",
        "                           use_multiprocessing = False,verbose = 1,workers=1)\n",
        "print('Test loss:' , x6[0])\n",
        "print('Test accuracy:',x6[1])"
      ],
      "execution_count": null,
      "outputs": [
        {
          "name": "stdout",
          "output_type": "stream",
          "text": [
            "36/36 [==============================] - 3s 95ms/step - loss: 0.6917 - acc: 0.7222\n",
            "Test loss: 0.6917243599891663\n",
            "Test accuracy: 0.7222222089767456\n"
          ]
        }
      ]
    },
    {
      "cell_type": "markdown",
      "metadata": {
        "nbpresent": {
          "id": "66140980-2aa4-457f-b1df-74c10c234cc2"
        },
        "id": "9RL6WBQAd7vU"
      },
      "source": [
        "## [10 points] TSNE Plot\n",
        "t-Distributed Stochastic Neighbor Embedding (t-SNE) is a widely used technique for dimensionality reduction that is particularly well suited for the visualization of high-dimensional datasets. After training is complete, extract features from a specific deep layer of your choice, use t-SNE to reduce the dimensionality of your extracted features to 2 dimensions and plot the resulting 2D features."
      ]
    },
    {
      "cell_type": "code",
      "metadata": {
        "id": "t9yVFbAEd7vW",
        "outputId": "455c06fa-aa1d-4c3e-e64f-5050f4e8dfb9"
      },
      "source": [
        "from sklearn.manifold import TSNE\n",
        "import seaborn as sns\n",
        "\n",
        "intermediate_layer_model = tf.keras.models.Model(inputs=model6.input,\n",
        "                                        outputs=model6.get_layer('dense_feature').output)\n",
        "\n",
        "tsne_eval_generator = test_datagen.flow_from_directory(DATASET_PATH,target_size=IMAGE_SIZE,\n",
        "                                                  batch_size=1,shuffle=False,seed=42,class_mode=\"categorical\")\n",
        "\n",
        "\n",
        "plt.rcParams['figure.figsize'] = [7, 5]\n",
        "\n",
        "intermediate_output = intermediate_layer_model.predict(tsne_eval_generator)\n",
        "tsne = TSNE(n_components=2)\n",
        "results = tsne.fit_transform(intermediate_output)\n",
        "h = tsne_eval_generator.labels\n",
        "sns.scatterplot(x = results[:,0], y = results[:,1], legend = 'full', hue= h, palette=[\"blue\", \"yellow\",\"red\",\"green\"])\n",
        "\n",
        "L=plt.legend()\n",
        "L.get_texts()[0].set_text('COVID-19')\n",
        "L.get_texts()[1].set_text('Normal')\n",
        "L.get_texts()[2].set_text('Pneumonia_bac')\n",
        "L.get_texts()[3].set_text('Pneumonia_vir')"
      ],
      "execution_count": null,
      "outputs": [
        {
          "name": "stdout",
          "output_type": "stream",
          "text": [
            "Found 270 images belonging to 4 classes.\n"
          ]
        },
        {
          "data": {
            "image/png": "[encoded data removed]",
            "text/plain": [
              "<Figure size 504x360 with 1 Axes>"
            ]
          },
          "metadata": {
            "needs_background": "light"
          },
          "output_type": "display_data"
        }
      ]
    },
    {
      "cell_type": "markdown",
      "metadata": {
        "id": "GPTAEF76d7vX"
      },
      "source": [
        "<!-- ## Task 2: COVID-19 vs Normal vs Tertiary Pneumonia (Bacterial and Viral) -->"
      ]
    },
    {
      "cell_type": "markdown",
      "metadata": {
        "nbpresent": {
          "id": "66140980-2aa4-457f-b1df-74c10c234cc2"
        },
        "id": "chY0JMZJd7vX"
      },
      "source": [
        "<!-- #### Renew Training Batch and Validation Batch -->"
      ]
    },
    {
      "cell_type": "markdown",
      "metadata": {
        "nbpresent": {
          "id": "66140980-2aa4-457f-b1df-74c10c234cc2"
        },
        "id": "0z0uiWXJd7vY"
      },
      "source": [
        "<!-- #### Renew Model -->"
      ]
    }
  ]
}